{
  "nbformat": 4,
  "nbformat_minor": 0,
  "metadata": {
    "colab": {
      "provenance": [],
      "collapsed_sections": [
        "rPi5eC8MsyyU",
        "n6xkBVDP1Fow"
      ]
    },
    "kernelspec": {
      "name": "python3",
      "display_name": "Python 3"
    },
    "language_info": {
      "name": "python"
    }
  },
  "cells": [
    {
      "cell_type": "markdown",
      "source": [
        "# Repaso de Python y Google Colab\n",
        "\n",
        "Podemos acceder desde la dirección: https://colab.research.google.com/"
      ],
      "metadata": {
        "id": "0fKvftS0qnBm"
      }
    },
    {
      "cell_type": "markdown",
      "source": [
        "## Google Colab\n",
        "\n",
        "$\\bullet$ Google Colaboratory permite ejectuar código Python en la nube.\n",
        "\n",
        "$\\bullet$ Es compatible con GitHub y Google Drive.\n",
        "\n",
        "$\\bullet$ Podemos importar y exportar los cuadernos de trabajo.\n",
        "\n",
        "$\\bullet$ Es posible instalar librerías usando !pip.\n",
        "\n",
        "$\\bullet$ Es posible usar GPUs.\n",
        "\n",
        "$\\bullet$ Usamos las celdas de tipo *Code*, para escribir código Python, y *Text*, para escribir text."
      ],
      "metadata": {
        "id": "H4ObylQfrret"
      }
    },
    {
      "cell_type": "markdown",
      "source": [
        "### Algunos comandos útiles:\n",
        "\n",
        "$\\bullet$ Insertar celda arriba de la celda actual: [Ctrl] + [M] + [A].\n",
        "\n",
        "$\\bullet$ Insertar celda abajo de la celda actual: [Ctrl] + [M] + [B].\n",
        "\n",
        "$\\bullet$ Borrar una celda: [Ctrl] + [M] + [D].\n",
        "\n",
        "$\\bullet$ Cambiar tipo de celda a *Code*: [Ctrl] + [M] + [Y].\n",
        "\n",
        "$\\bullet$ Cambiar tipo de celda a *Text*: [Ctrl] + [M] + [M].\n",
        "\n",
        "$\\bullet$ Guardar: [Ctrl] + [S].\n",
        "\n",
        "$\\bullet$ Deshacer: [Ctrl] + [Z].\n",
        "\n",
        "$\\bullet$ Para ejecutar comandos de *bash*, iniciamos con !\n",
        "\n",
        "$\\bullet$ Para ejecutar una celda: [Shift] + [Enter]"
      ],
      "metadata": {
        "id": "5O08JJHqvQ5H"
      }
    },
    {
      "cell_type": "markdown",
      "source": [
        "### Podemos escribir ecuaciones en $\\LaTeX{}$\n",
        "\n",
        "La ecuación de Schrödinger:\n",
        "\n",
        "$i\\hbar\\frac{\\partial |\\psi\\rangle}{\\partial t} = \\hat H |\\psi\\rangle$\n",
        "\n",
        "\\\\\n",
        "\n",
        "Una matriz identidad:\n",
        "\n",
        "$ I_{3\\times 3} =\n",
        "\\begin{pmatrix}\n",
        "1 & 0 & 0 \\\\\n",
        "0 & 1 & 0 \\\\\n",
        "0 & 0 & 1\n",
        "\\end{pmatrix}\n",
        "$\n",
        "\n",
        "\\\\\n",
        "\n",
        "$\\bullet$ Para escribir en **negritas**, encerramos entre **.\n",
        "\n",
        "$\\bullet$ Para escribir en *itálicas* encerramos entre *."
      ],
      "metadata": {
        "id": "sBFPttWwzRx1"
      }
    },
    {
      "cell_type": "markdown",
      "source": [
        "## Python\n",
        "\n",
        "Es un lenguaje dinámico."
      ],
      "metadata": {
        "id": "Qo6Ryw1W_G8S"
      }
    },
    {
      "cell_type": "markdown",
      "source": [
        "### Variables"
      ],
      "metadata": {
        "id": "VOIlGKKQvhF3"
      }
    },
    {
      "cell_type": "code",
      "source": [
        "# Cadenas de caracteres (strings)\n",
        "\n",
        "primera_palabra = \"hola\"\n",
        "segundaPalabra = \"mundo\"\n",
        "palabra3 = \"!\"\n",
        "\n",
        "print(primera_palabra+' '+segundaPalabra+palabra3)\n",
        "print(palabra3*5)"
      ],
      "metadata": {
        "id": "jyIzeSyEvohb",
        "colab": {
          "base_uri": "https://localhost:8080/"
        },
        "outputId": "241286d0-9008-4031-b2c6-c998e706d689"
      },
      "execution_count": 2,
      "outputs": [
        {
          "output_type": "stream",
          "name": "stdout",
          "text": [
            "hola mundo!\n",
            "!!!!!\n"
          ]
        }
      ]
    },
    {
      "cell_type": "code",
      "source": [
        "# No tienen tipos definidos\n",
        "\n",
        "x = 10.\n",
        "f = 'ultima clase'\n",
        "y = 6\n",
        "\n",
        "# Operaciones matemáticas\n",
        "\n",
        "suma = x+y\n",
        "producto = x*y\n",
        "division = x/y\n",
        "residuo = x%y\n",
        "potencia = x**y\n",
        "\n",
        "print(\"suma = \",suma)\n",
        "print(\"pructo = \",producto)\n",
        "print(\"división = \",division)\n",
        "print(\"residuo = \",residuo)\n",
        "print(\"potencia = \",potencia)"
      ],
      "metadata": {
        "id": "0PrZOoIevjcG",
        "colab": {
          "base_uri": "https://localhost:8080/"
        },
        "outputId": "db3f6f49-6482-46b6-e16d-a6a3d5ebc400"
      },
      "execution_count": 4,
      "outputs": [
        {
          "output_type": "stream",
          "name": "stdout",
          "text": [
            "suma =  16.0\n",
            "pructo =  60.0\n",
            "división =  1.6666666666666667\n",
            "residuo =  4.0\n",
            "potencia =  1000000.0\n"
          ]
        }
      ]
    },
    {
      "cell_type": "code",
      "source": [
        "# Leer entrada desde el teclado\n",
        "\n",
        "nombre = input(\"¿Cuál es tu nombre? \")\n",
        "print(\"Hola, \"+nombre)\n",
        "\n",
        "# Leer valores numéricos desde el teclado\n",
        "\n",
        "edad = float(input(\"Escribe un número \"))\n",
        "print(\"El doble de dicho número es \",2*edad)"
      ],
      "metadata": {
        "id": "tb9jzpAKoEh8",
        "colab": {
          "base_uri": "https://localhost:8080/"
        },
        "outputId": "70a9a3e4-e7a6-488f-fdb1-7985cdbe3e85"
      },
      "execution_count": 5,
      "outputs": [
        {
          "output_type": "stream",
          "name": "stdout",
          "text": [
            "¿Cuál es tu nombre? juan\n",
            "Hola, juan\n",
            "Escribe un número 2\n",
            "El doble de dicho número es  4.0\n"
          ]
        }
      ]
    },
    {
      "cell_type": "code",
      "source": [
        "# Ejercicio rápido:\n",
        "\n",
        "# la instrucción\n",
        "# a = float(input(\"Dame un número \"))\n",
        "# le asigna un valor numérico a la variable a.\n",
        "\n",
        "# la instrucción\n",
        "# a = str(a)\n",
        "#convierte la variable a en un string.\n",
        "\n",
        "#Escriba un programa que, dado el importe total de la cuenta de un restaurante, pregunte al cliente qué porcentaje de propina dejará.\n",
        "# Al final, su programa debe dar como salida a pantalla un mensaje indicando el total de la cuenta.\n",
        "\n",
        "cuenta_a_pagar = 100\n",
        "propina = float(input(\"¿Cuenta cerrada? : \"))  # recibe solo el numero, pero podriamos manejar otros casos\n",
        "print(f\"El total a pagar es de : {cuenta_a_pagar*(1+propina/100):.2f}\")"
      ],
      "metadata": {
        "id": "4BFFmHq16n-f",
        "colab": {
          "base_uri": "https://localhost:8080/"
        },
        "outputId": "013f401a-8732-4379-9726-06e71012469d"
      },
      "execution_count": 11,
      "outputs": [
        {
          "output_type": "stream",
          "name": "stdout",
          "text": [
            "¿Cuenta cerrada? : 1000\n",
            "El total a pagar es de : 1100.00\n"
          ]
        }
      ]
    },
    {
      "cell_type": "markdown",
      "source": [
        "### Listas"
      ],
      "metadata": {
        "id": "AUiKtd3o6S5r"
      }
    },
    {
      "cell_type": "code",
      "source": [
        "# Listas\n",
        "\n",
        "boolean = True\n",
        "mi_lista = [1,2,\"hector\",4,boolean,65,23]\n",
        "print(mi_lista)"
      ],
      "metadata": {
        "id": "ipz0KZbixebS",
        "colab": {
          "base_uri": "https://localhost:8080/"
        },
        "outputId": "d1680cd7-6043-4422-9f44-957ee49d6cee"
      },
      "execution_count": 12,
      "outputs": [
        {
          "output_type": "stream",
          "name": "stdout",
          "text": [
            "[1, 2, 'hector', 4, True, 65, 23]\n"
          ]
        }
      ]
    },
    {
      "cell_type": "code",
      "source": [
        "# Accedemos a los elementos de la lista\n",
        "\n",
        "print(mi_lista[0])\n",
        "print(mi_lista[3])\n",
        "print(mi_lista[-1])\n",
        "\n",
        "# Obtenemos el número de elementos en la lista\n",
        "\n",
        "print(\"mi_lista tiene \"+str(len(mi_lista))+\" elementos\")"
      ],
      "metadata": {
        "id": "WjD2r4wFyMwN",
        "colab": {
          "base_uri": "https://localhost:8080/"
        },
        "outputId": "8379fdff-3ce1-40db-9f2e-a64930726ca3"
      },
      "execution_count": 13,
      "outputs": [
        {
          "output_type": "stream",
          "name": "stdout",
          "text": [
            "1\n",
            "4\n",
            "23\n",
            "mi_lista tiene 7 elementos\n"
          ]
        }
      ]
    },
    {
      "cell_type": "code",
      "source": [
        "# Operaciones y métodos de listas\n",
        "\n",
        "nueva_lista = [-10,0,10,20]\n",
        "\n",
        "\n",
        "# Agregamos un elemento a la lista\n",
        "nueva_lista.append(30)\n",
        "\n",
        "print(nueva_lista)"
      ],
      "metadata": {
        "id": "eV1r9a99y1Xt",
        "colab": {
          "base_uri": "https://localhost:8080/"
        },
        "outputId": "8fedfb64-c26d-4cd1-af27-d3d03c8da769"
      },
      "execution_count": 29,
      "outputs": [
        {
          "output_type": "stream",
          "name": "stdout",
          "text": [
            "[-10, 0, 10, 20, 30]\n"
          ]
        }
      ]
    },
    {
      "cell_type": "code",
      "source": [
        "# Insertamos el elemento 5 a la lista, en la penúltima posición\n",
        "\n",
        "nueva_lista.insert(len(nueva_lista)-1,5)\n",
        "\n",
        "print(nueva_lista)"
      ],
      "metadata": {
        "id": "xefr_4_Z18Fo",
        "colab": {
          "base_uri": "https://localhost:8080/"
        },
        "outputId": "22ffb41a-ee55-40bd-92c5-7be66c4967ed"
      },
      "execution_count": 30,
      "outputs": [
        {
          "output_type": "stream",
          "name": "stdout",
          "text": [
            "[-10, 0, 10, 20, 5, 30]\n"
          ]
        }
      ]
    },
    {
      "cell_type": "code",
      "source": [
        "# Eliminamos el elemento en la segunda posición de mi_lista\n",
        "\n",
        "nueva_lista.pop(1)\n",
        "\n",
        "print(nueva_lista)"
      ],
      "metadata": {
        "id": "m12dC2mt2dDX",
        "colab": {
          "base_uri": "https://localhost:8080/"
        },
        "outputId": "e066f0ad-a13c-4e4d-b182-c3013e754acb"
      },
      "execution_count": 31,
      "outputs": [
        {
          "output_type": "stream",
          "name": "stdout",
          "text": [
            "[-10, 10, 20, 5, 30]\n"
          ]
        }
      ]
    },
    {
      "cell_type": "code",
      "source": [
        "# Contamos el número de veces que se repite -10 en la lista\n",
        "\n",
        "nueva_lista.count(-10)"
      ],
      "metadata": {
        "id": "tMg1EQ3A017X",
        "colab": {
          "base_uri": "https://localhost:8080/"
        },
        "outputId": "6892fceb-9f73-4e58-9b08-5eead190a1ed"
      },
      "execution_count": 32,
      "outputs": [
        {
          "output_type": "execute_result",
          "data": {
            "text/plain": [
              "1"
            ]
          },
          "metadata": {},
          "execution_count": 32
        }
      ]
    },
    {
      "cell_type": "code",
      "source": [
        "# Encontrar el máximo\n",
        "\n",
        "print(max(nueva_lista))\n",
        "\n",
        "# y el mínimo\n",
        "\n",
        "print(min(nueva_lista))"
      ],
      "metadata": {
        "id": "KLksTGA731TB",
        "colab": {
          "base_uri": "https://localhost:8080/"
        },
        "outputId": "eb0692ef-aae7-4399-b61d-2035fa539b1a"
      },
      "execution_count": 33,
      "outputs": [
        {
          "output_type": "stream",
          "name": "stdout",
          "text": [
            "30\n",
            "-10\n"
          ]
        }
      ]
    },
    {
      "cell_type": "code",
      "source": [
        "# ¿Cuál es el resultado de x+y?\n",
        "# ¿Cuál es el resultado de x[0]+y[0]?\n",
        "# ¿Cómo podría sumar algebraicamente x[i]+y[i]?\n",
        "\n",
        "x = [1,2,3]\n",
        "y = ['1','2','3']\n",
        "\n",
        "print(x+y)  # la suma es la concatenacion de listas\n",
        "# print(x[0]+y[0])  esto intenta sumar los primeros elementos pero no esta definida la suma int con str\n",
        "print(sum(x) + sum(int(i) for i in y))  # en este caso podemos convertir para sumar"
      ],
      "metadata": {
        "id": "K6Ce1LT8ZKqk",
        "colab": {
          "base_uri": "https://localhost:8080/"
        },
        "outputId": "5ddd9da1-25b0-4023-ce08-52dd95c4ce44"
      },
      "execution_count": 38,
      "outputs": [
        {
          "output_type": "stream",
          "name": "stdout",
          "text": [
            "[1, 2, 3, '1', '2', '3']\n",
            "12\n"
          ]
        }
      ]
    },
    {
      "cell_type": "code",
      "source": [
        "x+y"
      ],
      "metadata": {
        "id": "GdybL9QS7wE5",
        "colab": {
          "base_uri": "https://localhost:8080/"
        },
        "outputId": "35b43260-06a1-458a-aca3-ba1249d27d81"
      },
      "execution_count": 39,
      "outputs": [
        {
          "output_type": "execute_result",
          "data": {
            "text/plain": [
              "[1, 2, 3, '1', '2', '3']"
            ]
          },
          "metadata": {},
          "execution_count": 39
        }
      ]
    },
    {
      "cell_type": "code",
      "source": [
        "x[0]+int(y[0])"
      ],
      "metadata": {
        "id": "Q1S16nYi73Kk",
        "colab": {
          "base_uri": "https://localhost:8080/"
        },
        "outputId": "9c45a319-7913-4456-e415-4ceb7c0c6613"
      },
      "execution_count": 40,
      "outputs": [
        {
          "output_type": "execute_result",
          "data": {
            "text/plain": [
              "2"
            ]
          },
          "metadata": {},
          "execution_count": 40
        }
      ]
    },
    {
      "cell_type": "markdown",
      "source": [
        "### Condicionales"
      ],
      "metadata": {
        "id": "ZG2aNNKA4Jvc"
      }
    },
    {
      "cell_type": "code",
      "source": [
        "# if\n",
        "\n",
        "edad = float(input(\"¿Cuál es tu edad? \"))\n",
        "\n",
        "maxima_frecuencia_cardiaca = 220. - edad\n",
        "\n",
        "frecuencia_actual = maxima_frecuencia_cardiaca*.86\n",
        "\n",
        "if (frecuencia_actual > maxima_frecuencia_cardiaca):\n",
        "  print(\"debes tomar un descanso\")\n",
        "elif (frecuencia_actual < maxima_frecuencia_cardiaca and frecuencia_actual > 0.85*maxima_frecuencia_cardiaca):\n",
        "  print(\"considera disminuir el ritmo\")\n",
        "else:\n",
        "  print(\"todo bien\")"
      ],
      "metadata": {
        "id": "iGGjmJ8s4wvQ",
        "colab": {
          "base_uri": "https://localhost:8080/"
        },
        "outputId": "457bf2c3-49de-4194-a694-aeffa539561d"
      },
      "execution_count": 41,
      "outputs": [
        {
          "output_type": "stream",
          "name": "stdout",
          "text": [
            "¿Cuál es tu edad? 21\n",
            "considera disminuir el ritmo\n"
          ]
        }
      ]
    },
    {
      "cell_type": "markdown",
      "source": [
        "### Lazos (loops)"
      ],
      "metadata": {
        "id": "EBDiSkrfiCdB"
      }
    },
    {
      "cell_type": "code",
      "source": [
        "for i in range(1,1):\n",
        "  print(i)"
      ],
      "metadata": {
        "id": "ClY7S7QeNQfB"
      },
      "execution_count": 43,
      "outputs": []
    },
    {
      "cell_type": "code",
      "source": [
        "enteros_positivos = [1,2,3,4,5]\n",
        "\n",
        "for entero in enteros_positivos:\n",
        "  print(entero*entero)"
      ],
      "metadata": {
        "id": "6vPc_aFMiEIx",
        "colab": {
          "base_uri": "https://localhost:8080/"
        },
        "outputId": "d8cab2ee-f7d5-4d5c-8e80-44412e184db8"
      },
      "execution_count": 44,
      "outputs": [
        {
          "output_type": "stream",
          "name": "stdout",
          "text": [
            "1\n",
            "4\n",
            "9\n",
            "16\n",
            "25\n"
          ]
        }
      ]
    },
    {
      "cell_type": "markdown",
      "source": [
        "*List comprehensions*"
      ],
      "metadata": {
        "id": "CU0jUh7ek3Ik"
      }
    },
    {
      "cell_type": "code",
      "source": [
        "cuadrados = [entero*entero for entero in enteros_positivos]\n",
        "cuadrados"
      ],
      "metadata": {
        "id": "z36SJBc_kWeU",
        "colab": {
          "base_uri": "https://localhost:8080/"
        },
        "outputId": "6ce43201-790a-4405-f295-9d1ec2e7a3fa"
      },
      "execution_count": 45,
      "outputs": [
        {
          "output_type": "execute_result",
          "data": {
            "text/plain": [
              "[1, 4, 9, 16, 25]"
            ]
          },
          "metadata": {},
          "execution_count": 45
        }
      ]
    },
    {
      "cell_type": "code",
      "source": [
        "for i in range(5):\n",
        "  print(i)"
      ],
      "metadata": {
        "id": "P677HeyVk2OA",
        "colab": {
          "base_uri": "https://localhost:8080/"
        },
        "outputId": "b35054ef-722e-46f5-a3c3-1ae7d4a1e2dd"
      },
      "execution_count": 46,
      "outputs": [
        {
          "output_type": "stream",
          "name": "stdout",
          "text": [
            "0\n",
            "1\n",
            "2\n",
            "3\n",
            "4\n"
          ]
        }
      ]
    },
    {
      "cell_type": "code",
      "source": [
        "# range(inicio,final,paso)\n",
        "\n",
        "for i in range(-1,9,2):\n",
        "  print(i)"
      ],
      "metadata": {
        "id": "h2dPs16llSb-",
        "colab": {
          "base_uri": "https://localhost:8080/"
        },
        "outputId": "a950d27c-d5c2-4888-d62a-64911727d42b"
      },
      "execution_count": 48,
      "outputs": [
        {
          "output_type": "stream",
          "name": "stdout",
          "text": [
            "-1\n",
            "1\n",
            "3\n",
            "5\n",
            "7\n"
          ]
        }
      ]
    },
    {
      "cell_type": "code",
      "source": [
        "# while\n",
        "\n",
        "tiempo_limite = 10\n",
        "tiempo = 0\n",
        "\n",
        "while(tiempo < tiempo_limite):\n",
        "  print(tiempo)\n",
        "  tiempo = tiempo+1"
      ],
      "metadata": {
        "id": "9e7xej99lWVD",
        "colab": {
          "base_uri": "https://localhost:8080/"
        },
        "outputId": "3f2be960-97e5-4a51-effd-430211eb7ee6"
      },
      "execution_count": 49,
      "outputs": [
        {
          "output_type": "stream",
          "name": "stdout",
          "text": [
            "0\n",
            "1\n",
            "2\n",
            "3\n",
            "4\n",
            "5\n",
            "6\n",
            "7\n",
            "8\n",
            "9\n"
          ]
        }
      ]
    },
    {
      "cell_type": "code",
      "source": [
        "tiempo"
      ],
      "metadata": {
        "id": "u9gvW3X89sx6",
        "colab": {
          "base_uri": "https://localhost:8080/"
        },
        "outputId": "81312add-e41a-460b-ce93-31d9f41cc5e6"
      },
      "execution_count": 50,
      "outputs": [
        {
          "output_type": "execute_result",
          "data": {
            "text/plain": [
              "10"
            ]
          },
          "metadata": {},
          "execution_count": 50
        }
      ]
    },
    {
      "cell_type": "code",
      "source": [
        "#break: termina la ejecución del lazo\n",
        "\n",
        "numero = 5\n",
        "intento = int(input(\"dime un número entero entre 1 y 10 \"))\n",
        "\n",
        "while(intento != numero):\n",
        "  intento = int(input(\"dime un número entero entre 1 y 10 \"))\n",
        "  # y el break ? :v\n",
        "\n",
        "print(\"correcto, el número era \"+str(numero))\n"
      ],
      "metadata": {
        "id": "E7BrmDMmmIw9",
        "colab": {
          "base_uri": "https://localhost:8080/"
        },
        "outputId": "9aae95bb-b491-494d-8cd9-733de9dbadf0"
      },
      "execution_count": 51,
      "outputs": [
        {
          "output_type": "stream",
          "name": "stdout",
          "text": [
            "dime un número entero entre 1 y 10 2\n",
            "dime un número entero entre 1 y 10 3\n",
            "dime un número entero entre 1 y 10 6\n",
            "dime un número entero entre 1 y 10 4\n",
            "dime un número entero entre 1 y 10 5\n",
            "correcto, el número era 5\n"
          ]
        }
      ]
    },
    {
      "cell_type": "code",
      "source": [
        "15# continue: termina la ejecución actual del lazo\n",
        "# Vamos a imprimir los números impares\n",
        "\n",
        "for i in range(10):\n",
        "  if (i%2 == 0):\n",
        "    continue\n",
        "  print(i)\n"
      ],
      "metadata": {
        "id": "IRS960WrmNvI",
        "colab": {
          "base_uri": "https://localhost:8080/"
        },
        "outputId": "186fc195-513f-4aec-c188-f120ce8ede0b"
      },
      "execution_count": 53,
      "outputs": [
        {
          "output_type": "stream",
          "name": "stdout",
          "text": [
            "1\n",
            "3\n",
            "5\n",
            "7\n",
            "9\n"
          ]
        }
      ]
    },
    {
      "cell_type": "code",
      "source": [
        "# Ejercicio rápido: dada la lista\n",
        "\n",
        "frutas = ['manzana','pera','naranja','sandia','mandarina']\n",
        "\n",
        "# escriba un programa que encuentre si la palabra 'sandia' está en la lista; de ser así. En caso contrario indique al usuario que la palabra no está en la lista.\n",
        "\n",
        "mensaje = \"La palabra sandia esta en la lista\" if 'sandia' in frutas else \"La palabra sandia no esta en la lista\"\n",
        "print(mensaje)\n"
      ],
      "metadata": {
        "id": "RNlOZ83pctFe",
        "colab": {
          "base_uri": "https://localhost:8080/"
        },
        "outputId": "05fd388e-a09c-4c86-fa91-d751a52ff922"
      },
      "execution_count": 56,
      "outputs": [
        {
          "output_type": "stream",
          "name": "stdout",
          "text": [
            "La palabra sandia esta en la lista\n"
          ]
        }
      ]
    },
    {
      "cell_type": "markdown",
      "source": [
        "### Funciones"
      ],
      "metadata": {
        "id": "xXfU8YSZneW9"
      }
    },
    {
      "cell_type": "code",
      "source": [
        "# definimos una función usando def:\n",
        "\n",
        "def saludos(nombre):\n",
        "  print(\"Hola, \"+nombre)\n",
        "\n",
        "\n",
        "nombre = \"Héctor\"\n",
        "saludos(nombre)"
      ],
      "metadata": {
        "id": "fOycxhp0oCEL",
        "colab": {
          "base_uri": "https://localhost:8080/"
        },
        "outputId": "35b08890-4231-4b21-b0cb-0b75120bd44c"
      },
      "execution_count": 58,
      "outputs": [
        {
          "output_type": "stream",
          "name": "stdout",
          "text": [
            "Hola, Héctor\n"
          ]
        }
      ]
    },
    {
      "cell_type": "code",
      "source": [
        "# una función puede regresar valores:\n",
        "\n",
        "def suma_de_vectores(x,y):\n",
        "  suma_vectorial = []\n",
        "  for i in range(len(x)):\n",
        "    suma_vectorial.append(x[i]+y[i])\n",
        "  return suma_vectorial\n",
        "\n",
        "x = [1,2,3]\n",
        "y = [4,5,6]\n",
        "\n",
        "suma_vectorial = suma_de_vectores(x,y)\n",
        "print(suma_vectorial)"
      ],
      "metadata": {
        "id": "xx-uUjbKolHM",
        "colab": {
          "base_uri": "https://localhost:8080/"
        },
        "outputId": "375c9226-ebbd-4c12-fcba-424d2a03f5dc"
      },
      "execution_count": 59,
      "outputs": [
        {
          "output_type": "stream",
          "name": "stdout",
          "text": [
            "[5, 7, 9]\n"
          ]
        }
      ]
    },
    {
      "cell_type": "markdown",
      "source": [
        "Ejercicio rápido:\n",
        "\n",
        "Para pasar de grados Celsius a grados Farenheit, usamos la siguiente expesión:\n",
        "\n",
        "$^\\circ F = \\frac{9}{5}^\\circ C$+32\n",
        "\n",
        "Escriba una función que haga esa conversión. Verifique, por ejemplo que $20^\\circ C\\approx68^\\circ F$.\n"
      ],
      "metadata": {
        "id": "taY-xR6mdrok"
      }
    },
    {
      "cell_type": "code",
      "source": [
        "# Solución\n",
        "def cel2Far(celsius):\n",
        "  return 9/5 * celsius +32\n",
        "\n",
        "print(cel2Far(20))    # correcto :D"
      ],
      "metadata": {
        "id": "z7Fngdttel-V",
        "colab": {
          "base_uri": "https://localhost:8080/"
        },
        "outputId": "90b0dd7e-7fca-435f-ad7f-115161a313d7"
      },
      "execution_count": 61,
      "outputs": [
        {
          "output_type": "stream",
          "name": "stdout",
          "text": [
            "68.0\n"
          ]
        }
      ]
    },
    {
      "cell_type": "markdown",
      "source": [
        "### Diccionarios\n",
        "\n",
        "Los diccionarios son estructuras de datos que contienen llaves (*keys*) y valores (*values*). Para acceder a los valores, usamos las llaves."
      ],
      "metadata": {
        "id": "-b16CTzao6ha"
      }
    },
    {
      "cell_type": "code",
      "source": [
        "# Creemos un diccionario:\n",
        "\n",
        "directorio = {}\n",
        "\n",
        "directorio[\"Héctor\"] = 123456\n",
        "directorio[\"Miguel\"] = 987654\n",
        "directorio[\"Mejía\"] = 567123\n",
        "\n",
        "print(directorio)"
      ],
      "metadata": {
        "id": "uyfQloKqrMjR",
        "colab": {
          "base_uri": "https://localhost:8080/"
        },
        "outputId": "037a867a-553e-41e2-a1f0-2e271f12865c"
      },
      "execution_count": 62,
      "outputs": [
        {
          "output_type": "stream",
          "name": "stdout",
          "text": [
            "{'Héctor': 123456, 'Miguel': 987654, 'Mejía': 567123}\n"
          ]
        }
      ]
    },
    {
      "cell_type": "code",
      "source": [
        "directorio[\"Héctor\"]"
      ],
      "metadata": {
        "id": "OHClQ-vqr8bQ",
        "colab": {
          "base_uri": "https://localhost:8080/"
        },
        "outputId": "b5637e9b-b978-4ac6-f95f-4ad327e3cd3c"
      },
      "execution_count": 63,
      "outputs": [
        {
          "output_type": "execute_result",
          "data": {
            "text/plain": [
              "123456"
            ]
          },
          "metadata": {},
          "execution_count": 63
        }
      ]
    },
    {
      "cell_type": "code",
      "source": [
        "#para conocer las llaves\n",
        "\n",
        "directorio.keys()"
      ],
      "metadata": {
        "id": "q4OQC9Rrr_qe",
        "colab": {
          "base_uri": "https://localhost:8080/"
        },
        "outputId": "9f9caea8-8aef-4c87-fd8b-eb2986e61de4"
      },
      "execution_count": 64,
      "outputs": [
        {
          "output_type": "execute_result",
          "data": {
            "text/plain": [
              "dict_keys(['Héctor', 'Miguel', 'Mejía'])"
            ]
          },
          "metadata": {},
          "execution_count": 64
        }
      ]
    },
    {
      "cell_type": "code",
      "source": [
        "# y los valores\n",
        "\n",
        "directorio.values()"
      ],
      "metadata": {
        "id": "c4edk4jUsN4T",
        "colab": {
          "base_uri": "https://localhost:8080/"
        },
        "outputId": "0aeeb876-195f-4020-a090-890571a120a9"
      },
      "execution_count": 65,
      "outputs": [
        {
          "output_type": "execute_result",
          "data": {
            "text/plain": [
              "dict_values([123456, 987654, 567123])"
            ]
          },
          "metadata": {},
          "execution_count": 65
        }
      ]
    },
    {
      "cell_type": "code",
      "source": [
        "#alternativamente, podemos definir un diccionario como\n",
        "\n",
        "directorio = {\"Héctor\":123456,\"Miguel\":987654,\"Mejía\":567123}\n",
        "\n",
        "directorio"
      ],
      "metadata": {
        "id": "_m2H_LMUsQsT",
        "colab": {
          "base_uri": "https://localhost:8080/"
        },
        "outputId": "b83647a2-9b29-428b-8ff6-75cf28f330a6"
      },
      "execution_count": 66,
      "outputs": [
        {
          "output_type": "execute_result",
          "data": {
            "text/plain": [
              "{'Héctor': 123456, 'Miguel': 987654, 'Mejía': 567123}"
            ]
          },
          "metadata": {},
          "execution_count": 66
        }
      ]
    },
    {
      "cell_type": "code",
      "source": [
        "# podemos borrar una entrada:\n",
        "\n",
        "directorio.pop(\"Miguel\")\n",
        "\n",
        "directorio"
      ],
      "metadata": {
        "id": "GeKGnW-Dsl_4",
        "colab": {
          "base_uri": "https://localhost:8080/"
        },
        "outputId": "7349a1f0-6025-40cc-cbe9-5045f673f5cb"
      },
      "execution_count": 67,
      "outputs": [
        {
          "output_type": "execute_result",
          "data": {
            "text/plain": [
              "{'Héctor': 123456, 'Mejía': 567123}"
            ]
          },
          "metadata": {},
          "execution_count": 67
        }
      ]
    },
    {
      "cell_type": "markdown",
      "source": [
        "## Numpy\n",
        "\n",
        "Librería de Python para cómputo científico. Permite operar con arreglos multidimensionales."
      ],
      "metadata": {
        "id": "rPi5eC8MsyyU"
      }
    },
    {
      "cell_type": "code",
      "source": [
        "# en caso de ser necesario, instalamos la librería descomentando la siguiente línea:\n",
        "# !pip install numpy\n",
        "\n",
        "import numpy as np"
      ],
      "metadata": {
        "id": "Wb4w0MFotWPl"
      },
      "execution_count": 68,
      "outputs": []
    },
    {
      "cell_type": "code",
      "source": [
        "a = np.array([1,2,3])\n",
        "\n",
        "print(type(a))\n",
        "\n",
        "for i in range(len(a)):\n",
        "  a[i] = a[i]**2\n",
        "  print(i,a[i])"
      ],
      "metadata": {
        "id": "Pa19L07ktY3D",
        "colab": {
          "base_uri": "https://localhost:8080/"
        },
        "outputId": "fee0d5ed-0f39-4d6f-bd2f-fd49e3230f2c"
      },
      "execution_count": 69,
      "outputs": [
        {
          "output_type": "stream",
          "name": "stdout",
          "text": [
            "<class 'numpy.ndarray'>\n",
            "0 1\n",
            "1 4\n",
            "2 9\n"
          ]
        }
      ]
    },
    {
      "cell_type": "code",
      "source": [
        "# a es un arreglo de una dimensión:\n",
        "\n",
        "a.shape"
      ],
      "metadata": {
        "id": "Ba_RdWcKued9",
        "colab": {
          "base_uri": "https://localhost:8080/"
        },
        "outputId": "e0d772fe-ae17-465b-beb9-81452cccfec4"
      },
      "execution_count": 70,
      "outputs": [
        {
          "output_type": "execute_result",
          "data": {
            "text/plain": [
              "(3,)"
            ]
          },
          "metadata": {},
          "execution_count": 70
        }
      ]
    },
    {
      "cell_type": "code",
      "source": [
        "b = np.array([[1,2],[3,4]])\n",
        "\n",
        "# b es un arreglo de dos dimensiones\n",
        "\n",
        "b.shape"
      ],
      "metadata": {
        "id": "4HB8G64hu5ip",
        "colab": {
          "base_uri": "https://localhost:8080/"
        },
        "outputId": "69906a0a-db31-4cca-8100-ecaa3c8eda7f"
      },
      "execution_count": 71,
      "outputs": [
        {
          "output_type": "execute_result",
          "data": {
            "text/plain": [
              "(2, 2)"
            ]
          },
          "metadata": {},
          "execution_count": 71
        }
      ]
    },
    {
      "cell_type": "code",
      "source": [
        "print(b)"
      ],
      "metadata": {
        "id": "JXRVHDuvvHhh",
        "colab": {
          "base_uri": "https://localhost:8080/"
        },
        "outputId": "485162f3-c3a9-4967-b1ce-75e34e6b4e71"
      },
      "execution_count": 72,
      "outputs": [
        {
          "output_type": "stream",
          "name": "stdout",
          "text": [
            "[[1 2]\n",
            " [3 4]]\n"
          ]
        }
      ]
    },
    {
      "cell_type": "code",
      "source": [
        "print(b[0][0],b[0,1])\n",
        "print(b[1,0],b[1][1])"
      ],
      "metadata": {
        "id": "5f2G3M7BvUg-",
        "colab": {
          "base_uri": "https://localhost:8080/"
        },
        "outputId": "aa97ace4-1135-481e-9b27-543e4bdf175b"
      },
      "execution_count": 73,
      "outputs": [
        {
          "output_type": "stream",
          "name": "stdout",
          "text": [
            "1 2\n",
            "3 4\n"
          ]
        }
      ]
    },
    {
      "cell_type": "markdown",
      "source": [
        "#### *Slicing*\n",
        "\n",
        "Tomamos parte (rebanadas) de los elementos del arreglo."
      ],
      "metadata": {
        "id": "QEVrTi1qxG3Z"
      }
    },
    {
      "cell_type": "code",
      "source": [
        "a = [1,2,3,4,5,6,7,8,9]"
      ],
      "metadata": {
        "id": "uJe04U0oxLRC"
      },
      "execution_count": 74,
      "outputs": []
    },
    {
      "cell_type": "code",
      "source": [
        "a[:]"
      ],
      "metadata": {
        "id": "0_LiNi5GxV2P",
        "colab": {
          "base_uri": "https://localhost:8080/"
        },
        "outputId": "891d95ae-3d7d-4515-fd13-64a6a8ddf27e"
      },
      "execution_count": 75,
      "outputs": [
        {
          "output_type": "execute_result",
          "data": {
            "text/plain": [
              "[1, 2, 3, 4, 5, 6, 7, 8, 9]"
            ]
          },
          "metadata": {},
          "execution_count": 75
        }
      ]
    },
    {
      "cell_type": "code",
      "source": [
        "a[0:5]"
      ],
      "metadata": {
        "id": "711136qixZvN",
        "colab": {
          "base_uri": "https://localhost:8080/"
        },
        "outputId": "276d54d3-0c4b-41e7-8d1d-96139770b256"
      },
      "execution_count": 76,
      "outputs": [
        {
          "output_type": "execute_result",
          "data": {
            "text/plain": [
              "[1, 2, 3, 4, 5]"
            ]
          },
          "metadata": {},
          "execution_count": 76
        }
      ]
    },
    {
      "cell_type": "code",
      "source": [
        "a[4:8]"
      ],
      "metadata": {
        "id": "uSpeC0RYxdWM",
        "colab": {
          "base_uri": "https://localhost:8080/"
        },
        "outputId": "1d1fd966-982b-450f-bc8f-3a32c57a7de1"
      },
      "execution_count": 77,
      "outputs": [
        {
          "output_type": "execute_result",
          "data": {
            "text/plain": [
              "[5, 6, 7, 8]"
            ]
          },
          "metadata": {},
          "execution_count": 77
        }
      ]
    },
    {
      "cell_type": "code",
      "source": [
        "a[4:]"
      ],
      "metadata": {
        "id": "SjrP4YXixnvc",
        "colab": {
          "base_uri": "https://localhost:8080/"
        },
        "outputId": "19576b47-591b-4e55-c423-fe37b5281b8c"
      },
      "execution_count": 78,
      "outputs": [
        {
          "output_type": "execute_result",
          "data": {
            "text/plain": [
              "[5, 6, 7, 8, 9]"
            ]
          },
          "metadata": {},
          "execution_count": 78
        }
      ]
    },
    {
      "cell_type": "code",
      "source": [
        "a[:3]"
      ],
      "metadata": {
        "id": "tioLMl3Rxqr1",
        "colab": {
          "base_uri": "https://localhost:8080/"
        },
        "outputId": "edc88437-1f23-4959-87d1-7646f3783c62"
      },
      "execution_count": 79,
      "outputs": [
        {
          "output_type": "execute_result",
          "data": {
            "text/plain": [
              "[1, 2, 3]"
            ]
          },
          "metadata": {},
          "execution_count": 79
        }
      ]
    },
    {
      "cell_type": "markdown",
      "source": [
        "#### Algunas matrices importantes"
      ],
      "metadata": {
        "id": "7S0eScurvaM0"
      }
    },
    {
      "cell_type": "code",
      "source": [
        "# matriz 3x3 con 0 en cada entrada\n",
        "\n",
        "ceros = np.zeros((3,3))\n",
        "print(ceros)"
      ],
      "metadata": {
        "id": "7YWBYR_-vmqB",
        "colab": {
          "base_uri": "https://localhost:8080/"
        },
        "outputId": "12e0020a-025c-4a17-81e6-fc14030cc303"
      },
      "execution_count": 80,
      "outputs": [
        {
          "output_type": "stream",
          "name": "stdout",
          "text": [
            "[[0. 0. 0.]\n",
            " [0. 0. 0.]\n",
            " [0. 0. 0.]]\n"
          ]
        }
      ]
    },
    {
      "cell_type": "code",
      "source": [
        "# matriz 3x3 con 1 en cada entrada\n",
        "\n",
        "unos = np.ones((3,3))\n",
        "print(unos)"
      ],
      "metadata": {
        "id": "hPf9e_1zvucC",
        "colab": {
          "base_uri": "https://localhost:8080/"
        },
        "outputId": "79170df9-4756-4a2b-eca8-b7ddbcc2efeb"
      },
      "execution_count": 81,
      "outputs": [
        {
          "output_type": "stream",
          "name": "stdout",
          "text": [
            "[[1. 1. 1.]\n",
            " [1. 1. 1.]\n",
            " [1. 1. 1.]]\n"
          ]
        }
      ]
    },
    {
      "cell_type": "code",
      "source": [
        "# matrix 3x3 con todas las entradas iguales a una constante\n",
        "constante = -3\n",
        "\n",
        "matriz_constante = np.full((3,3),constante)\n",
        "print(matriz_constante)"
      ],
      "metadata": {
        "id": "SXG3nbcuv7mf",
        "colab": {
          "base_uri": "https://localhost:8080/"
        },
        "outputId": "065b903c-88e8-4a4e-83b9-d09c1e86ca83"
      },
      "execution_count": 82,
      "outputs": [
        {
          "output_type": "stream",
          "name": "stdout",
          "text": [
            "[[-3 -3 -3]\n",
            " [-3 -3 -3]\n",
            " [-3 -3 -3]]\n"
          ]
        }
      ]
    },
    {
      "cell_type": "code",
      "source": [
        "# matriz identidad de 3x3\n",
        "\n",
        "identidad = np.eye(3)\n",
        "print(identidad)"
      ],
      "metadata": {
        "id": "zvZEaEDywKys",
        "colab": {
          "base_uri": "https://localhost:8080/"
        },
        "outputId": "287ffd37-8ed0-4c65-f613-9096e196c560"
      },
      "execution_count": 83,
      "outputs": [
        {
          "output_type": "stream",
          "name": "stdout",
          "text": [
            "[[1. 0. 0.]\n",
            " [0. 1. 0.]\n",
            " [0. 0. 1.]]\n"
          ]
        }
      ]
    },
    {
      "cell_type": "code",
      "source": [
        "# matriz 3x3 con entradas aleatorias, entre 0 y 1\n",
        "\n",
        "matriz_aleatoria = np.random.random((3,3))\n",
        "print(matriz_aleatoria)"
      ],
      "metadata": {
        "id": "34YA3TM1wgrZ",
        "colab": {
          "base_uri": "https://localhost:8080/"
        },
        "outputId": "b7d963c8-60fe-447a-fdea-59d1a20e2b54"
      },
      "execution_count": 84,
      "outputs": [
        {
          "output_type": "stream",
          "name": "stdout",
          "text": [
            "[[0.31954526 0.25421545 0.89840371]\n",
            " [0.82344101 0.17601119 0.00587422]\n",
            " [0.77734367 0.21631145 0.25857659]]\n"
          ]
        }
      ]
    },
    {
      "cell_type": "code",
      "source": [
        "# podemos hacer slicing sobre las matrices\n",
        "\n",
        "print(identidad[0:1,0:3])"
      ],
      "metadata": {
        "id": "EgybJBksw08s",
        "colab": {
          "base_uri": "https://localhost:8080/"
        },
        "outputId": "96008c61-97e6-4804-f1f0-878159c6cb3e"
      },
      "execution_count": 86,
      "outputs": [
        {
          "output_type": "stream",
          "name": "stdout",
          "text": [
            "[[1. 0. 0.]]\n"
          ]
        }
      ]
    },
    {
      "cell_type": "markdown",
      "source": [
        "### Operaciones con arreglos (elemento a elemento)"
      ],
      "metadata": {
        "id": "mOMD71PFyEMG"
      }
    },
    {
      "cell_type": "code",
      "source": [
        "a = np.array([[1,2],[3,4]])\n",
        "b = np.array([[4,5],[6,7]])\n",
        "print(a)\n",
        "print('')\n",
        "print('')\n",
        "print(b)"
      ],
      "metadata": {
        "id": "m3yaTALUyhCb",
        "colab": {
          "base_uri": "https://localhost:8080/"
        },
        "outputId": "2566ff3b-d21b-4ad7-f648-15655258eced"
      },
      "execution_count": 87,
      "outputs": [
        {
          "output_type": "stream",
          "name": "stdout",
          "text": [
            "[[1 2]\n",
            " [3 4]]\n",
            "\n",
            "\n",
            "[[4 5]\n",
            " [6 7]]\n"
          ]
        }
      ]
    },
    {
      "cell_type": "code",
      "source": [
        "print(a+b)\n",
        "print(np.add(a,b))"
      ],
      "metadata": {
        "id": "0dBS1eIZys9X",
        "colab": {
          "base_uri": "https://localhost:8080/"
        },
        "outputId": "6d376161-143f-447e-af7c-f9f4ca6852e1"
      },
      "execution_count": 88,
      "outputs": [
        {
          "output_type": "stream",
          "name": "stdout",
          "text": [
            "[[ 5  7]\n",
            " [ 9 11]]\n",
            "[[ 5  7]\n",
            " [ 9 11]]\n"
          ]
        }
      ]
    },
    {
      "cell_type": "code",
      "source": [
        "print(a-b)\n",
        "print(np.subtract(a,b))"
      ],
      "metadata": {
        "id": "PAQL_kifyvm0",
        "colab": {
          "base_uri": "https://localhost:8080/"
        },
        "outputId": "faf8ab87-49ed-487c-f1d5-a159fccd4fc8"
      },
      "execution_count": 89,
      "outputs": [
        {
          "output_type": "stream",
          "name": "stdout",
          "text": [
            "[[-3 -3]\n",
            " [-3 -3]]\n",
            "[[-3 -3]\n",
            " [-3 -3]]\n"
          ]
        }
      ]
    },
    {
      "cell_type": "code",
      "source": [
        "print(a*b)\n",
        "print(np.multiply(a,b))"
      ],
      "metadata": {
        "id": "sJG0swBly7fT",
        "colab": {
          "base_uri": "https://localhost:8080/"
        },
        "outputId": "4a98c803-45cc-4a38-89ec-c5abc830bb90"
      },
      "execution_count": 90,
      "outputs": [
        {
          "output_type": "stream",
          "name": "stdout",
          "text": [
            "[[ 4 10]\n",
            " [18 28]]\n",
            "[[ 4 10]\n",
            " [18 28]]\n"
          ]
        }
      ]
    },
    {
      "cell_type": "code",
      "source": [
        "print(a/b)\n",
        "print(np.divide(a,b))"
      ],
      "metadata": {
        "id": "tpTuihCkzTBm",
        "colab": {
          "base_uri": "https://localhost:8080/"
        },
        "outputId": "b3f1617d-6654-41e5-8c56-96c33e41cc8f"
      },
      "execution_count": 91,
      "outputs": [
        {
          "output_type": "stream",
          "name": "stdout",
          "text": [
            "[[0.25       0.4       ]\n",
            " [0.5        0.57142857]]\n",
            "[[0.25       0.4       ]\n",
            " [0.5        0.57142857]]\n"
          ]
        }
      ]
    },
    {
      "cell_type": "code",
      "source": [
        "print(np.sqrt(a))"
      ],
      "metadata": {
        "id": "axw7kZhOzbQv",
        "colab": {
          "base_uri": "https://localhost:8080/"
        },
        "outputId": "020f0558-de66-48d6-8329-3f037fb3f9b8"
      },
      "execution_count": 92,
      "outputs": [
        {
          "output_type": "stream",
          "name": "stdout",
          "text": [
            "[[1.         1.41421356]\n",
            " [1.73205081 2.        ]]\n"
          ]
        }
      ]
    },
    {
      "cell_type": "markdown",
      "source": [
        "### Operaciones vectoriales con arreglos"
      ],
      "metadata": {
        "id": "LOZIonhqzpAq"
      }
    },
    {
      "cell_type": "code",
      "source": [
        "up = np.array([1,0])\n",
        "down = np.array ([0,1])\n",
        "\n",
        "print(up,down)"
      ],
      "metadata": {
        "id": "bcdVRO6Dz5xw",
        "colab": {
          "base_uri": "https://localhost:8080/"
        },
        "outputId": "eb11b951-c910-4193-8cd3-33609b34432d"
      },
      "execution_count": 93,
      "outputs": [
        {
          "output_type": "stream",
          "name": "stdout",
          "text": [
            "[1 0] [0 1]\n"
          ]
        }
      ]
    },
    {
      "cell_type": "code",
      "source": [
        "a"
      ],
      "metadata": {
        "id": "l4hsduqdz5Wl",
        "colab": {
          "base_uri": "https://localhost:8080/"
        },
        "outputId": "93804acb-94e3-4d1a-b9d4-e6946f0e8122"
      },
      "execution_count": 94,
      "outputs": [
        {
          "output_type": "execute_result",
          "data": {
            "text/plain": [
              "array([[1, 2],\n",
              "       [3, 4]])"
            ]
          },
          "metadata": {},
          "execution_count": 94
        }
      ]
    },
    {
      "cell_type": "code",
      "source": [
        "identidad = np.eye(2)"
      ],
      "metadata": {
        "id": "Oehln6Uv0LR8"
      },
      "execution_count": 95,
      "outputs": []
    },
    {
      "cell_type": "code",
      "source": [
        "a*identidad"
      ],
      "metadata": {
        "id": "1EohaS5F0N_V",
        "colab": {
          "base_uri": "https://localhost:8080/"
        },
        "outputId": "7dcf5458-fac1-4190-b3d3-1b3658422cfb"
      },
      "execution_count": 96,
      "outputs": [
        {
          "output_type": "execute_result",
          "data": {
            "text/plain": [
              "array([[1., 0.],\n",
              "       [0., 4.]])"
            ]
          },
          "metadata": {},
          "execution_count": 96
        }
      ]
    },
    {
      "cell_type": "code",
      "source": [
        "np.dot(a,identidad)"
      ],
      "metadata": {
        "id": "zZjuhIQi0S7l",
        "colab": {
          "base_uri": "https://localhost:8080/"
        },
        "outputId": "fe7f0499-4f31-49e9-ed14-5e9b51dc0144"
      },
      "execution_count": 97,
      "outputs": [
        {
          "output_type": "execute_result",
          "data": {
            "text/plain": [
              "array([[1., 2.],\n",
              "       [3., 4.]])"
            ]
          },
          "metadata": {},
          "execution_count": 97
        }
      ]
    },
    {
      "cell_type": "code",
      "source": [
        "np.dot(up,a)"
      ],
      "metadata": {
        "id": "t5DPgHHL0XOw",
        "colab": {
          "base_uri": "https://localhost:8080/"
        },
        "outputId": "2b776a43-5f0e-4395-8c76-434b787c2a90"
      },
      "execution_count": 98,
      "outputs": [
        {
          "output_type": "execute_result",
          "data": {
            "text/plain": [
              "array([1, 2])"
            ]
          },
          "metadata": {},
          "execution_count": 98
        }
      ]
    },
    {
      "cell_type": "code",
      "source": [
        "np.dot(a,up)"
      ],
      "metadata": {
        "id": "hGzbYbGa0aGO",
        "colab": {
          "base_uri": "https://localhost:8080/"
        },
        "outputId": "46b2fcc3-17b1-4654-fbbb-9c9a6a54d540"
      },
      "execution_count": 99,
      "outputs": [
        {
          "output_type": "execute_result",
          "data": {
            "text/plain": [
              "array([1, 3])"
            ]
          },
          "metadata": {},
          "execution_count": 99
        }
      ]
    },
    {
      "cell_type": "code",
      "source": [
        "np.dot(up,up)"
      ],
      "metadata": {
        "id": "fO3A5Uxw0ezw",
        "colab": {
          "base_uri": "https://localhost:8080/"
        },
        "outputId": "097e9f2b-e912-40ca-8232-92133b2312df"
      },
      "execution_count": 101,
      "outputs": [
        {
          "output_type": "execute_result",
          "data": {
            "text/plain": [
              "np.int64(1)"
            ]
          },
          "metadata": {},
          "execution_count": 101
        }
      ]
    },
    {
      "cell_type": "code",
      "source": [
        "np.dot(up,down)"
      ],
      "metadata": {
        "id": "KG9iKNtE0i4S",
        "colab": {
          "base_uri": "https://localhost:8080/"
        },
        "outputId": "92c2f28b-20e9-4fad-d78e-e8a826920b43"
      },
      "execution_count": 102,
      "outputs": [
        {
          "output_type": "execute_result",
          "data": {
            "text/plain": [
              "np.int64(0)"
            ]
          },
          "metadata": {},
          "execution_count": 102
        }
      ]
    },
    {
      "cell_type": "code",
      "source": [
        "(1+1j)*1j"
      ],
      "metadata": {
        "id": "Y8VEOtEzJRgK",
        "colab": {
          "base_uri": "https://localhost:8080/"
        },
        "outputId": "0974c67e-ee77-4669-c083-d2a74a27a2a4"
      },
      "execution_count": 104,
      "outputs": [
        {
          "output_type": "execute_result",
          "data": {
            "text/plain": [
              "(-1+1j)"
            ]
          },
          "metadata": {},
          "execution_count": 104
        }
      ]
    },
    {
      "cell_type": "markdown",
      "source": [
        "El **producto de Kronecker** de\n",
        "\n",
        "$A =\n",
        "\\begin{pmatrix}\n",
        "a_{11} & a_{12} & \\ldots & a_{1N} \\\\\n",
        "a_{21} & a_{22} & \\ldots & a_{2N} \\\\\n",
        "\\vdots & \\vdots & \\ldots & \\vdots \\\\\n",
        "a_{N1} & a_{N2} & \\ldots & a_{NN}\n",
        "\\end{pmatrix}\n",
        "$\n",
        "\n",
        "y\n",
        "\n",
        "$B =\n",
        "\\begin{pmatrix}\n",
        "b_{11} & b_{12} & \\ldots & b_{1M} \\\\\n",
        "b_{21} & b_{22} & \\ldots & b_{2M} \\\\\n",
        "\\vdots & \\vdots & \\ldots & \\vdots \\\\\n",
        "b_{M1} & b_{M2} & \\ldots & b_{MM}\n",
        "\\end{pmatrix}\n",
        "$\n",
        "\n",
        "se define como\n",
        "\n",
        "$A\\otimes B =\n",
        "\\begin{pmatrix}\n",
        "a_{11}B & a_{12}B & \\ldots & a_{1N}B \\\\\n",
        "a_{21}B & a_{22}B & \\ldots & a_{2N}B \\\\\n",
        "\\vdots & \\vdots & \\ldots & \\vdots \\\\\n",
        "a_{N1}B & a_{N2}B & \\ldots & a_{NN}B\n",
        "\\end{pmatrix}\n",
        "$\n",
        "\n",
        "con\n",
        "\n",
        "$a_{ij}B =\n",
        "\\begin{pmatrix}\n",
        "a_{ij}b_{11} & a_{ij}b_{12} & \\ldots & a_{ij}b_{1M} \\\\\n",
        "a_{ij}b_{21} & a_{ij}b_{22} & \\ldots & a_{ij}b_{2M} \\\\\n",
        "\\vdots & \\vdots & \\ldots & \\vdots \\\\\n",
        "a_{ij}b_{M1} & a_{ij}b_{M2} & \\ldots & a_{ij}b_{MM} \\\\\n",
        "\\end{pmatrix}\n",
        "$\n",
        "\n",
        "\n",
        "**Ejemplo**\n",
        "\n",
        "Sean los operadores de Pauli:\n",
        "$$\n",
        "X = \\begin{pmatrix}\n",
        "0 & 1 \\\\\n",
        "1 & 0\n",
        "\\end{pmatrix}, \\quad\n",
        "Y = \\begin{pmatrix}\n",
        "0 & -i \\\\\n",
        "i & 0\n",
        "\\end{pmatrix}\n",
        "$$\n",
        "\n",
        "El producto de Kronecker $ X \\otimes Y $ es:\n",
        "$$\n",
        "X \\otimes Y =\n",
        "\\begin{pmatrix}\n",
        "0 \\cdot Y & 1 \\cdot Y \\\\\n",
        "1 \\cdot Y & 0 \\cdot Y\n",
        "\\end{pmatrix}\n",
        "=\n",
        "\\begin{pmatrix}\n",
        "0 & 0 & 0 & -i \\\\\n",
        "0 & 0 & i & 0 \\\\\n",
        "0 & -i & 0 & 0 \\\\\n",
        "i & 0 & 0 & 0\n",
        "\\end{pmatrix}\n",
        "$$\n"
      ],
      "metadata": {
        "id": "Jwlpi7nahXe9"
      }
    },
    {
      "cell_type": "code",
      "source": [
        "# Producto de Kronecker:\n",
        "import numpy as np\n",
        "X = np.array([[0,1],[1,0]])\n",
        "Y = np.array([[0,-1j],[1j,0]])\n",
        "\n",
        "np.kron(X,Y)"
      ],
      "metadata": {
        "id": "S1CdQsfAgWrm",
        "colab": {
          "base_uri": "https://localhost:8080/"
        },
        "outputId": "a0c7c784-3ac8-4c96-d314-6bdd9b698e2c"
      },
      "execution_count": 105,
      "outputs": [
        {
          "output_type": "execute_result",
          "data": {
            "text/plain": [
              "array([[0.+0.j, 0.-0.j, 0.+0.j, 0.-1.j],\n",
              "       [0.+0.j, 0.+0.j, 0.+1.j, 0.+0.j],\n",
              "       [0.+0.j, 0.-1.j, 0.+0.j, 0.-0.j],\n",
              "       [0.+1.j, 0.+0.j, 0.+0.j, 0.+0.j]])"
            ]
          },
          "metadata": {},
          "execution_count": 105
        }
      ]
    },
    {
      "cell_type": "code",
      "source": [
        "# Eigenvalores y eigenvectores\n",
        "\n",
        "np.linalg.eig(a)"
      ],
      "metadata": {
        "id": "OZOGXMyGj2bE",
        "colab": {
          "base_uri": "https://localhost:8080/"
        },
        "outputId": "708e7d8e-2ba9-4da2-db1c-391bda47cea4"
      },
      "execution_count": 106,
      "outputs": [
        {
          "output_type": "execute_result",
          "data": {
            "text/plain": [
              "EigResult(eigenvalues=array([-0.37228132,  5.37228132]), eigenvectors=array([[-0.82456484, -0.41597356],\n",
              "       [ 0.56576746, -0.90937671]]))"
            ]
          },
          "metadata": {},
          "execution_count": 106
        }
      ]
    },
    {
      "cell_type": "markdown",
      "source": [
        "## Matplotlib\n",
        "\n",
        "Librería de Python para graficar datos y funciones"
      ],
      "metadata": {
        "id": "n6xkBVDP1Fow"
      }
    },
    {
      "cell_type": "code",
      "source": [
        "# si fuera necesario instalar, descomentamos la siguiente línea:\n",
        "# !pip install matplotlib\n",
        "\n",
        "import matplotlib.pyplot as plt"
      ],
      "metadata": {
        "id": "YJvbUkk_1OQB"
      },
      "execution_count": 107,
      "outputs": []
    },
    {
      "cell_type": "code",
      "source": [
        "x = np.arange(0,2*np.pi,0.1)\n",
        "print(x)"
      ],
      "metadata": {
        "id": "UC9dp-Z_1UAt",
        "colab": {
          "base_uri": "https://localhost:8080/"
        },
        "outputId": "3094830f-a436-4471-ea66-5ef68667aab3"
      },
      "execution_count": 108,
      "outputs": [
        {
          "output_type": "stream",
          "name": "stdout",
          "text": [
            "[0.  0.1 0.2 0.3 0.4 0.5 0.6 0.7 0.8 0.9 1.  1.1 1.2 1.3 1.4 1.5 1.6 1.7\n",
            " 1.8 1.9 2.  2.1 2.2 2.3 2.4 2.5 2.6 2.7 2.8 2.9 3.  3.1 3.2 3.3 3.4 3.5\n",
            " 3.6 3.7 3.8 3.9 4.  4.1 4.2 4.3 4.4 4.5 4.6 4.7 4.8 4.9 5.  5.1 5.2 5.3\n",
            " 5.4 5.5 5.6 5.7 5.8 5.9 6.  6.1 6.2]\n"
          ]
        }
      ]
    },
    {
      "cell_type": "code",
      "source": [
        "y = np.sin(x)\n",
        "print(y)"
      ],
      "metadata": {
        "id": "x7vUedM41n8i",
        "colab": {
          "base_uri": "https://localhost:8080/"
        },
        "outputId": "c1e06784-3f82-4d64-a73a-a80ccd40416d"
      },
      "execution_count": 109,
      "outputs": [
        {
          "output_type": "stream",
          "name": "stdout",
          "text": [
            "[ 0.          0.09983342  0.19866933  0.29552021  0.38941834  0.47942554\n",
            "  0.56464247  0.64421769  0.71735609  0.78332691  0.84147098  0.89120736\n",
            "  0.93203909  0.96355819  0.98544973  0.99749499  0.9995736   0.99166481\n",
            "  0.97384763  0.94630009  0.90929743  0.86320937  0.8084964   0.74570521\n",
            "  0.67546318  0.59847214  0.51550137  0.42737988  0.33498815  0.23924933\n",
            "  0.14112001  0.04158066 -0.05837414 -0.15774569 -0.2555411  -0.35078323\n",
            " -0.44252044 -0.52983614 -0.61185789 -0.68776616 -0.7568025  -0.81827711\n",
            " -0.87157577 -0.91616594 -0.95160207 -0.97753012 -0.993691   -0.99992326\n",
            " -0.99616461 -0.98245261 -0.95892427 -0.92581468 -0.88345466 -0.83226744\n",
            " -0.77276449 -0.70554033 -0.63126664 -0.55068554 -0.46460218 -0.37387666\n",
            " -0.2794155  -0.1821625  -0.0830894 ]\n"
          ]
        }
      ]
    },
    {
      "cell_type": "code",
      "source": [
        "print(type(x))\n",
        "print(type(y))"
      ],
      "metadata": {
        "id": "HzbjBP1E111H",
        "colab": {
          "base_uri": "https://localhost:8080/"
        },
        "outputId": "7610cb43-f5dc-48c5-9445-09c3cd7c2a9f"
      },
      "execution_count": 110,
      "outputs": [
        {
          "output_type": "stream",
          "name": "stdout",
          "text": [
            "<class 'numpy.ndarray'>\n",
            "<class 'numpy.ndarray'>\n"
          ]
        }
      ]
    },
    {
      "cell_type": "code",
      "source": [
        "plt.plot(x,y)\n",
        "plt.show()"
      ],
      "metadata": {
        "id": "26rsZPFf16Cq",
        "colab": {
          "base_uri": "https://localhost:8080/",
          "height": 430
        },
        "outputId": "dc9c26d8-f3d7-449c-afe4-77a683f69386"
      },
      "execution_count": 111,
      "outputs": [
        {
          "output_type": "display_data",
          "data": {
            "text/plain": [
              "<Figure size 640x480 with 1 Axes>"
            ],
            "image/png": "[encoded data removed]"
          },
          "metadata": {}
        }
      ]
    },
    {
      "cell_type": "code",
      "source": [
        "z = np.cos(x)\n",
        "\n",
        "plt.scatter(x, y,color='g')\n",
        "plt.plot(x, z)\n",
        "plt.xlabel('$x$')\n",
        "plt.ylabel('$y$')\n",
        "plt.title('Funciones $\\sin$ y $\\cos$')\n",
        "plt.legend(['$\\sin$', '$\\cos$'])\n",
        "plt.show()"
      ],
      "metadata": {
        "id": "XZBWz2Gf2GBU",
        "colab": {
          "base_uri": "https://localhost:8080/",
          "height": 474
        },
        "outputId": "62d659b4-a426-4f24-9313-752fd3b9487a"
      },
      "execution_count": 112,
      "outputs": [
        {
          "output_type": "display_data",
          "data": {
            "text/plain": [
              "<Figure size 640x480 with 1 Axes>"
            ],
            "image/png": "[encoded data removed]"
          },
          "metadata": {}
        }
      ]
    },
    {
      "cell_type": "code",
      "source": [],
      "metadata": {
        "id": "h9Itsiq3Kol1"
      },
      "execution_count": null,
      "outputs": []
    }
  ]
}