{
  "nbformat": 4,
  "nbformat_minor": 0,
  "metadata": {
    "colab": {
      "provenance": [],
      "collapsed_sections": [
        "H4ObylQfrret",
        "Qo6Ryw1W_G8S",
        "rPi5eC8MsyyU",
        "n6xkBVDP1Fow"
      ]
    },
    "kernelspec": {
      "name": "python3",
      "display_name": "Python 3"
    },
    "language_info": {
      "name": "python"
    }
  },
  "cells": [
    {
      "cell_type": "markdown",
      "source": [
        "# Repaso de Python y Google Colab\n",
        "\n",
        "Podemos acceder desde la dirección: https://colab.research.google.com/"
      ],
      "metadata": {
        "id": "0fKvftS0qnBm"
      }
    },
    {
      "cell_type": "markdown",
      "source": [
        "## Google Colab\n",
        "\n",
        "$\\bullet$ Google Colaboratory permite ejectuar código Python en la nube.\n",
        "\n",
        "$\\bullet$ Es compatible con GitHub y Google Drive.\n",
        "\n",
        "$\\bullet$ Podemos importar y exportar los cuadernos de trabajo.\n",
        "\n",
        "$\\bullet$ Es posible instalar librerías usando !pip.\n",
        "\n",
        "$\\bullet$ Es posible usar GPUs.\n",
        "\n",
        "$\\bullet$ Usamos las celdas de tipo *Code*, para escribir código Python, y *Text*, para escribir text.\n",
        "\n",
        "\n"
      ],
      "metadata": {
        "id": "H4ObylQfrret"
      }
    },
    {
      "cell_type": "markdown",
      "source": [
        "### Algunos comandos útiles:\n",
        "\n",
        "$\\bullet$ Insertar celda arriba de la celda actual: [Ctrl] + [M] + [A].\n",
        "\n",
        "$\\bullet$ Insertar celda abajo de la celda actual: [Ctrl] + [M] + [B].\n",
        "\n",
        "$\\bullet$ Borrar una celda: [Ctrl] + [M] + [D].\n",
        "\n",
        "$\\bullet$ Cambiar tipo de celda a *Code*: [Ctrl] + [M] + [Y].\n",
        "\n",
        "$\\bullet$ Cambiar tipo de celda a *Text*: [Ctrl] + [M] + [M].\n",
        "\n",
        "$\\bullet$ Guardar: [Ctrl] + [S].\n",
        "\n",
        "$\\bullet$ Deshacer: [Ctrl] + [Z].\n",
        "\n",
        "$\\bullet$ Para ejecutar comandos de *bash*, iniciamos con !\n",
        "\n",
        "$\\bullet$ Para ejecutar una celda: [Shift] + [Enter]"
      ],
      "metadata": {
        "id": "5O08JJHqvQ5H"
      }
    },
    {
      "cell_type": "markdown",
      "source": [
        "### Podemos escribir ecuaciones en $\\LaTeX{}$\n",
        "\n",
        "La ecuación de Schrödinger:\n",
        "\n",
        "$i\\hbar\\frac{\\partial |\\psi\\rangle}{\\partial t} = \\hat H |\\psi\\rangle$\n",
        "\n",
        "\\\\\n",
        "\n",
        "Una matriz identidad:\n",
        "\n",
        "$ I_{3\\times 3} =\n",
        "\\begin{pmatrix}\n",
        "1 & 0 & 0 \\\\\n",
        "0 & 1 & 0 \\\\\n",
        "0 & 0 & 1\n",
        "\\end{pmatrix}\n",
        "$\n",
        "\n",
        "\\\\\n",
        "\n",
        "$\\bullet$ Para escribir en **negritas**, encerramos entre **.\n",
        "\n",
        "$\\bullet$ Para escribir en *itálicas* encerramos entre *."
      ],
      "metadata": {
        "id": "sBFPttWwzRx1"
      }
    },
    {
      "cell_type": "markdown",
      "source": [
        "## Python\n",
        "\n",
        "Es un lenguaje dinámico."
      ],
      "metadata": {
        "id": "Qo6Ryw1W_G8S"
      }
    },
    {
      "cell_type": "markdown",
      "source": [
        "### Variables"
      ],
      "metadata": {
        "id": "VOIlGKKQvhF3"
      }
    },
    {
      "cell_type": "code",
      "source": [
        "# No tienen tipos definidos\n",
        "\n",
        "x = 10.\n",
        "f = 'ultima clase'\n",
        "y = 6\n",
        "\n",
        "# Operaciones matemáticas\n",
        "\n",
        "suma = x+y\n",
        "producto = x*y\n",
        "division = x/y\n",
        "residuo = x%y\n",
        "potencia = x**y\n",
        "\n",
        "print(\"suma = \",suma)\n",
        "print(\"pructo = \",producto)\n",
        "print(\"división = \",division)\n",
        "print(\"residuo = \",residuo)\n",
        "print(\"potencia = \",potencia)"
      ],
      "metadata": {
        "id": "0PrZOoIevjcG"
      },
      "execution_count": null,
      "outputs": []
    },
    {
      "cell_type": "code",
      "source": [
        "# Cadenas de caracteres (strings)\n",
        "\n",
        "primera_palabra = \"hola\"\n",
        "segundaPalabra = \"mundo\"\n",
        "palabra3 = \"!\"\n",
        "\n",
        "print(primera_palabra+' '+segundaPalabra+palabra3)\n",
        "print(palabra3*5)"
      ],
      "metadata": {
        "id": "jyIzeSyEvohb"
      },
      "execution_count": null,
      "outputs": []
    },
    {
      "cell_type": "code",
      "source": [
        "# Leer entrada desde el teclado\n",
        "\n",
        "nombre = input(\"¿Cuál es tu nombre? \")\n",
        "print(\"Hola, \"+nombre)\n",
        "\n",
        "# Leer valores numéricos desde el teclado\n",
        "\n",
        "edad = float(input(\"Escribe un número \"))\n",
        "print(\"El doble de dicho número es \",2*edad)"
      ],
      "metadata": {
        "id": "tb9jzpAKoEh8"
      },
      "execution_count": null,
      "outputs": []
    },
    {
      "cell_type": "code",
      "source": [
        "# Ejercicio rápido:\n",
        "\n",
        "# la instrucción\n",
        "# a = float(input(\"Dame un número \"))\n",
        "# le asigna un valor numérico a la variable a.\n",
        "\n",
        "# la instrucción\n",
        "# a = str(a)\n",
        "#convierte la variable a en un string.\n",
        "\n",
        "#Escriba un programa que, dado el importe total de la cuenta de un restaurante, pregunte al cliente qué porcentaje de propina dejará.\n",
        "# Al final, su programa debe dar como salida a pantalla un mensaje indicando el total de la cuenta.\n"
      ],
      "metadata": {
        "id": "4BFFmHq16n-f"
      },
      "execution_count": null,
      "outputs": []
    },
    {
      "cell_type": "markdown",
      "source": [
        "### Listas"
      ],
      "metadata": {
        "id": "AUiKtd3o6S5r"
      }
    },
    {
      "cell_type": "code",
      "source": [
        "# Listas\n",
        "\n",
        "boolean = True\n",
        "mi_lista = [1,2,\"hector\",4,boolean,65,23]\n",
        "print(mi_lista)"
      ],
      "metadata": {
        "id": "ipz0KZbixebS"
      },
      "execution_count": null,
      "outputs": []
    },
    {
      "cell_type": "code",
      "source": [
        "# Accedemos a los elementos de la lista\n",
        "\n",
        "print(mi_lista[0])\n",
        "print(mi_lista[3])\n",
        "print(mi_lista[-1])\n",
        "\n",
        "# Obtenemos el número de elementos en la lista\n",
        "\n",
        "print(\"mi_lista tiene \"+str(len(mi_lista))+\" elementos\")"
      ],
      "metadata": {
        "id": "WjD2r4wFyMwN"
      },
      "execution_count": null,
      "outputs": []
    },
    {
      "cell_type": "code",
      "source": [
        "# Operaciones y métodos de listas\n",
        "\n",
        "nueva_lista = [-10,0,10,20]\n",
        "\n",
        "\n",
        "# Agregamos un elemento a la lista\n",
        "nueva_lista.append(30)\n",
        "\n",
        "print(nueva_lista)"
      ],
      "metadata": {
        "id": "eV1r9a99y1Xt"
      },
      "execution_count": null,
      "outputs": []
    },
    {
      "cell_type": "code",
      "source": [
        "# Insertamos el elemento 5 a la lista, en la penúltima posición\n",
        "\n",
        "nueva_lista.insert(len(mi_lista)-1,5)\n",
        "\n",
        "print(nueva_lista)"
      ],
      "metadata": {
        "id": "xefr_4_Z18Fo"
      },
      "execution_count": null,
      "outputs": []
    },
    {
      "cell_type": "code",
      "source": [
        "# Eliminamos el elemento en la segunda posición de mi_lista\n",
        "\n",
        "nueva_lista.pop(1)\n",
        "\n",
        "print(nueva_lista)"
      ],
      "metadata": {
        "id": "m12dC2mt2dDX"
      },
      "execution_count": null,
      "outputs": []
    },
    {
      "cell_type": "code",
      "source": [
        "# Contamos el número de veces que se repite -10 en la lista\n",
        "\n",
        "nueva_lista.count(-10)"
      ],
      "metadata": {
        "id": "tMg1EQ3A017X"
      },
      "execution_count": null,
      "outputs": []
    },
    {
      "cell_type": "code",
      "source": [
        "# Encontrar el máximo\n",
        "\n",
        "print(max(nueva_lista))\n",
        "\n",
        "# y el mínimo\n",
        "\n",
        "print(min(nueva_lista))"
      ],
      "metadata": {
        "id": "KLksTGA731TB"
      },
      "execution_count": null,
      "outputs": []
    },
    {
      "cell_type": "code",
      "source": [
        "# ¿Cuál es el resultado de x+y?\n",
        "# ¿Cuál es el resultado de x[0]+y[0]?\n",
        "# ¿Cómo podría sumar algebraicamente x[i]+y[i]?\n",
        "\n",
        "x = [1,2,3]\n",
        "y = ['1','2','3']\n",
        "\n"
      ],
      "metadata": {
        "id": "K6Ce1LT8ZKqk"
      },
      "execution_count": null,
      "outputs": []
    },
    {
      "cell_type": "code",
      "source": [
        "x+y"
      ],
      "metadata": {
        "id": "GdybL9QS7wE5"
      },
      "execution_count": null,
      "outputs": []
    },
    {
      "cell_type": "code",
      "source": [
        "x[0]+int(y[0])"
      ],
      "metadata": {
        "id": "Q1S16nYi73Kk"
      },
      "execution_count": null,
      "outputs": []
    },
    {
      "cell_type": "markdown",
      "source": [
        "### Condicionales"
      ],
      "metadata": {
        "id": "ZG2aNNKA4Jvc"
      }
    },
    {
      "cell_type": "code",
      "source": [
        "# if\n",
        "\n",
        "edad = float(input(\"¿Cuál es tu edad? \"))\n",
        "\n",
        "maxima_frecuencia_cardiaca = 220. - edad\n",
        "\n",
        "frecuencia_actual = maxima_frecuencia_cardiaca*.86\n",
        "\n",
        "if (frecuencia_actual > maxima_frecuencia_cardiaca):\n",
        "  print(\"debes tomar un descanso\")\n",
        "elif (frecuencia_actual < maxima_frecuencia_cardiaca and frecuencia_actual > 0.85*maxima_frecuencia_cardiaca):\n",
        "  print(\"considera disminuir el ritmo\")\n",
        "else:\n",
        "  print(\"todo bien\")"
      ],
      "metadata": {
        "id": "iGGjmJ8s4wvQ"
      },
      "execution_count": null,
      "outputs": []
    },
    {
      "cell_type": "markdown",
      "source": [
        "### Lazos (loops)"
      ],
      "metadata": {
        "id": "EBDiSkrfiCdB"
      }
    },
    {
      "cell_type": "code",
      "source": [
        "for i in range(1,1):\n",
        "  print(i)"
      ],
      "metadata": {
        "id": "ClY7S7QeNQfB"
      },
      "execution_count": null,
      "outputs": []
    },
    {
      "cell_type": "code",
      "source": [
        "enteros_positivos = [1,2,3,4,5]\n",
        "\n",
        "for entero in enteros_positivos:\n",
        "  print(entero*entero)"
      ],
      "metadata": {
        "id": "6vPc_aFMiEIx"
      },
      "execution_count": null,
      "outputs": []
    },
    {
      "cell_type": "markdown",
      "source": [
        "*List comprehensions*"
      ],
      "metadata": {
        "id": "CU0jUh7ek3Ik"
      }
    },
    {
      "cell_type": "code",
      "source": [
        "cuadrados = [entero*entero for entero in enteros_positivos]\n",
        "cuadrados"
      ],
      "metadata": {
        "id": "z36SJBc_kWeU"
      },
      "execution_count": null,
      "outputs": []
    },
    {
      "cell_type": "code",
      "source": [
        "for i in range(5):\n",
        "  print(i)"
      ],
      "metadata": {
        "id": "P677HeyVk2OA"
      },
      "execution_count": null,
      "outputs": []
    },
    {
      "cell_type": "code",
      "source": [
        "# range(inicio,final,paso)\n",
        "\n",
        "for i in range(-1,9,2):\n",
        "  print(i)"
      ],
      "metadata": {
        "id": "h2dPs16llSb-"
      },
      "execution_count": null,
      "outputs": []
    },
    {
      "cell_type": "code",
      "source": [
        "# while\n",
        "\n",
        "tiempo_limite = 10\n",
        "tiempo = 0\n",
        "\n",
        "while(tiempo < tiempo_limite):\n",
        "  print(tiempo)\n",
        "  tiempo = tiempo+1"
      ],
      "metadata": {
        "id": "9e7xej99lWVD"
      },
      "execution_count": null,
      "outputs": []
    },
    {
      "cell_type": "code",
      "source": [
        "tiempo"
      ],
      "metadata": {
        "id": "u9gvW3X89sx6"
      },
      "execution_count": null,
      "outputs": []
    },
    {
      "cell_type": "code",
      "source": [
        "#break: termina la ejecución del lazo\n",
        "\n",
        "numero = 5\n",
        "intento = int(input(\"dime un número entero entre 1 y 10 \"))\n",
        "\n",
        "while(intento != numero):\n",
        "  intento = int(input(\"dime un número entero entre 1 y 10 \"))\n",
        "\n",
        "print(\"correcto, el número era \"+str(numero))\n"
      ],
      "metadata": {
        "id": "E7BrmDMmmIw9"
      },
      "execution_count": null,
      "outputs": []
    },
    {
      "cell_type": "code",
      "source": [
        "15# continue: termina la ejecución actual del lazo\n",
        "# Vamos a imprimir los números impares\n",
        "\n",
        "for i in range(10):\n",
        "  if (i%2 == 0):\n",
        "    continue\n",
        "  print(i)\n"
      ],
      "metadata": {
        "id": "IRS960WrmNvI"
      },
      "execution_count": null,
      "outputs": []
    },
    {
      "cell_type": "code",
      "source": [
        "# Ejercicio rápido: dada la lista\n",
        "\n",
        "frutas = ['manzana','pera','naranja','sandia','mandarina']\n",
        "\n",
        "# escriba un programa que encuentre si la palabra 'sandia' está en la lista; de ser así. En caso contrario indique al usuario que la palabra no está en la lista.\n"
      ],
      "metadata": {
        "id": "RNlOZ83pctFe"
      },
      "execution_count": null,
      "outputs": []
    },
    {
      "cell_type": "markdown",
      "source": [
        "### Funciones"
      ],
      "metadata": {
        "id": "xXfU8YSZneW9"
      }
    },
    {
      "cell_type": "code",
      "source": [
        "# definimos una función usando def:\n",
        "\n",
        "def saludos(nombre):\n",
        "  print(\"Hola, \"+nombre)\n",
        "\n",
        "\n",
        "nombre = \"Héctor\"\n",
        "saludos(nombre)"
      ],
      "metadata": {
        "id": "fOycxhp0oCEL"
      },
      "execution_count": null,
      "outputs": []
    },
    {
      "cell_type": "code",
      "source": [
        "# una función puede regresar valores:\n",
        "\n",
        "def suma_de_vectores(x,y):\n",
        "  suma_vectorial = []\n",
        "  for i in range(len(x)):\n",
        "    suma_vectorial.append(x[i]+y[i])\n",
        "  return suma_vectorial\n",
        "\n",
        "x = [1,2,3]\n",
        "y = [4,5,6]\n",
        "\n",
        "suma_vectorial = suma_de_vectores(x,y)\n",
        "print(suma_vectorial)"
      ],
      "metadata": {
        "id": "xx-uUjbKolHM"
      },
      "execution_count": null,
      "outputs": []
    },
    {
      "cell_type": "markdown",
      "source": [
        "Ejercicio rápido:\n",
        "\n",
        "Para pasar de grados Celsius a grados Farenheit, usamos la siguiente expesión:\n",
        "\n",
        "$^\\circ F = \\frac{9}{5}^\\circ C$+32\n",
        "\n",
        "Escriba una función que haga esa conversión. Verifique, por ejemplo que $20^\\circ C\\approx68^\\circ F$.\n"
      ],
      "metadata": {
        "id": "taY-xR6mdrok"
      }
    },
    {
      "cell_type": "code",
      "source": [
        "# Solución"
      ],
      "metadata": {
        "id": "z7Fngdttel-V"
      },
      "execution_count": null,
      "outputs": []
    },
    {
      "cell_type": "markdown",
      "source": [
        "### Diccionarios\n",
        "\n",
        "Los diccionarios son estructuras de datos que contienen llaves (*keys*) y valores (*values*). Para acceder a los valores, usamos las llaves."
      ],
      "metadata": {
        "id": "-b16CTzao6ha"
      }
    },
    {
      "cell_type": "code",
      "source": [
        "# Creemos un diccionario:\n",
        "\n",
        "directorio = {}\n",
        "\n",
        "directorio[\"Héctor\"] = 123456\n",
        "directorio[\"Miguel\"] = 987654\n",
        "directorio[\"Mejía\"] = 567123\n",
        "\n",
        "print(directorio)"
      ],
      "metadata": {
        "id": "uyfQloKqrMjR"
      },
      "execution_count": null,
      "outputs": []
    },
    {
      "cell_type": "code",
      "source": [
        "directorio[\"Héctor\"]"
      ],
      "metadata": {
        "id": "OHClQ-vqr8bQ"
      },
      "execution_count": null,
      "outputs": []
    },
    {
      "cell_type": "code",
      "source": [
        "#para conocer las llaves\n",
        "\n",
        "directorio.keys()"
      ],
      "metadata": {
        "id": "q4OQC9Rrr_qe"
      },
      "execution_count": null,
      "outputs": []
    },
    {
      "cell_type": "code",
      "source": [
        "# y los valores\n",
        "\n",
        "directorio.values()"
      ],
      "metadata": {
        "id": "c4edk4jUsN4T"
      },
      "execution_count": null,
      "outputs": []
    },
    {
      "cell_type": "code",
      "source": [
        "#alternativamente, podemos definir un diccionario como\n",
        "\n",
        "directorio = {\"Héctor\":123456,\"Miguel\":987654,\"Mejía\":567123}\n",
        "\n",
        "directorio"
      ],
      "metadata": {
        "id": "_m2H_LMUsQsT"
      },
      "execution_count": null,
      "outputs": []
    },
    {
      "cell_type": "code",
      "source": [
        "# podemos borrar una entrada:\n",
        "\n",
        "directorio.pop(\"Miguel\")\n",
        "\n",
        "directorio"
      ],
      "metadata": {
        "id": "GeKGnW-Dsl_4"
      },
      "execution_count": null,
      "outputs": []
    },
    {
      "cell_type": "markdown",
      "source": [
        "## Numpy\n",
        "\n",
        "Librería de Python para cómputo científico. Permite operar con arreglos multidimensionales."
      ],
      "metadata": {
        "id": "rPi5eC8MsyyU"
      }
    },
    {
      "cell_type": "code",
      "source": [
        "# en caso de ser necesario, instalamos la librería descomentando la siguiente línea:\n",
        "# !pip install numpy\n",
        "\n",
        "import numpy as np"
      ],
      "metadata": {
        "id": "Wb4w0MFotWPl"
      },
      "execution_count": null,
      "outputs": []
    },
    {
      "cell_type": "code",
      "source": [
        "a = np.array([1,2,3])\n",
        "\n",
        "print(type(a))\n",
        "\n",
        "for i in range(len(a)):\n",
        "  a[i] = a[i]**2\n",
        "  print(i,a[i])"
      ],
      "metadata": {
        "id": "Pa19L07ktY3D"
      },
      "execution_count": null,
      "outputs": []
    },
    {
      "cell_type": "code",
      "source": [
        "# a es un arreglo de una dimensión:\n",
        "\n",
        "a.shape"
      ],
      "metadata": {
        "id": "Ba_RdWcKued9"
      },
      "execution_count": null,
      "outputs": []
    },
    {
      "cell_type": "code",
      "source": [
        "b = np.array([[1,2],[3,4]])\n",
        "\n",
        "# b es un arreglo de dos dimensiones\n",
        "\n",
        "b.shape"
      ],
      "metadata": {
        "id": "4HB8G64hu5ip"
      },
      "execution_count": null,
      "outputs": []
    },
    {
      "cell_type": "code",
      "source": [
        "print(b)"
      ],
      "metadata": {
        "id": "JXRVHDuvvHhh"
      },
      "execution_count": null,
      "outputs": []
    },
    {
      "cell_type": "code",
      "source": [
        "print(b[0][0],b[0,1])\n",
        "print(b[1,0],b[1][1])"
      ],
      "metadata": {
        "id": "5f2G3M7BvUg-"
      },
      "execution_count": null,
      "outputs": []
    },
    {
      "cell_type": "markdown",
      "source": [
        "#### *Slicing*\n",
        "\n",
        "Tomamos parte (rebanadas) de los elementos del arreglo."
      ],
      "metadata": {
        "id": "QEVrTi1qxG3Z"
      }
    },
    {
      "cell_type": "code",
      "source": [
        "a = [1,2,3,4,5,6,7,8,9]"
      ],
      "metadata": {
        "id": "uJe04U0oxLRC"
      },
      "execution_count": null,
      "outputs": []
    },
    {
      "cell_type": "code",
      "source": [
        "a[:]"
      ],
      "metadata": {
        "id": "0_LiNi5GxV2P"
      },
      "execution_count": null,
      "outputs": []
    },
    {
      "cell_type": "code",
      "source": [
        "a[0:5]"
      ],
      "metadata": {
        "id": "711136qixZvN"
      },
      "execution_count": null,
      "outputs": []
    },
    {
      "cell_type": "code",
      "source": [
        "a[4:8]"
      ],
      "metadata": {
        "id": "uSpeC0RYxdWM"
      },
      "execution_count": null,
      "outputs": []
    },
    {
      "cell_type": "code",
      "source": [
        "a[4:]"
      ],
      "metadata": {
        "id": "SjrP4YXixnvc"
      },
      "execution_count": null,
      "outputs": []
    },
    {
      "cell_type": "code",
      "source": [
        "a[:3]"
      ],
      "metadata": {
        "id": "tioLMl3Rxqr1"
      },
      "execution_count": null,
      "outputs": []
    },
    {
      "cell_type": "markdown",
      "source": [
        "#### Algunas matrices importantes"
      ],
      "metadata": {
        "id": "7S0eScurvaM0"
      }
    },
    {
      "cell_type": "code",
      "source": [
        "# matriz 3x3 con 0 en cada entrada\n",
        "\n",
        "ceros = np.zeros((3,3))\n",
        "print(ceros)"
      ],
      "metadata": {
        "id": "7YWBYR_-vmqB"
      },
      "execution_count": null,
      "outputs": []
    },
    {
      "cell_type": "code",
      "source": [
        "# matriz 3x3 con 1 en cada entrada\n",
        "\n",
        "unos = np.ones((3,3))\n",
        "print(unos)"
      ],
      "metadata": {
        "id": "hPf9e_1zvucC"
      },
      "execution_count": null,
      "outputs": []
    },
    {
      "cell_type": "code",
      "source": [
        "# matrix 3x3 con todas las entradas iguales a una constante\n",
        "constante = -3\n",
        "\n",
        "matriz_constante = np.full((3,3),constante)\n",
        "print(matriz_constante)"
      ],
      "metadata": {
        "id": "SXG3nbcuv7mf"
      },
      "execution_count": null,
      "outputs": []
    },
    {
      "cell_type": "code",
      "source": [
        "# matriz identidad de 3x3\n",
        "\n",
        "identidad = np.eye(3)\n",
        "print(identidad)"
      ],
      "metadata": {
        "id": "zvZEaEDywKys"
      },
      "execution_count": null,
      "outputs": []
    },
    {
      "cell_type": "code",
      "source": [
        "# matriz 3x3 con entradas aleatorias, entre 0 y 1\n",
        "\n",
        "matriz_aleatoria = np.random.random((3,3))\n",
        "print(matriz_aleatoria)"
      ],
      "metadata": {
        "id": "34YA3TM1wgrZ"
      },
      "execution_count": null,
      "outputs": []
    },
    {
      "cell_type": "code",
      "source": [
        "# podemos hacer slicing sobre las matrices\n",
        "\n",
        "print(identidad[0:2,0:3])"
      ],
      "metadata": {
        "id": "EgybJBksw08s"
      },
      "execution_count": null,
      "outputs": []
    },
    {
      "cell_type": "markdown",
      "source": [
        "### Operaciones con arreglos (elemento a elemento)"
      ],
      "metadata": {
        "id": "mOMD71PFyEMG"
      }
    },
    {
      "cell_type": "code",
      "source": [
        "a = np.array([[1,2],[3,4]])\n",
        "b = np.array([[4,5],[6,7]])\n",
        "print(a)\n",
        "print('')\n",
        "print('')\n",
        "print(b)"
      ],
      "metadata": {
        "id": "m3yaTALUyhCb"
      },
      "execution_count": null,
      "outputs": []
    },
    {
      "cell_type": "code",
      "source": [
        "print(a+b)\n",
        "print(np.add(a,b))"
      ],
      "metadata": {
        "id": "0dBS1eIZys9X"
      },
      "execution_count": null,
      "outputs": []
    },
    {
      "cell_type": "code",
      "source": [
        "print(a-b)\n",
        "print(np.subtract(a,b))"
      ],
      "metadata": {
        "id": "PAQL_kifyvm0"
      },
      "execution_count": null,
      "outputs": []
    },
    {
      "cell_type": "code",
      "source": [
        "print(a*b)\n",
        "print(np.multiply(a,b))"
      ],
      "metadata": {
        "id": "sJG0swBly7fT"
      },
      "execution_count": null,
      "outputs": []
    },
    {
      "cell_type": "code",
      "source": [
        "print(a/b)\n",
        "print(np.divide(a,b))"
      ],
      "metadata": {
        "id": "tpTuihCkzTBm"
      },
      "execution_count": null,
      "outputs": []
    },
    {
      "cell_type": "code",
      "source": [
        "print(np.sqrt(a))"
      ],
      "metadata": {
        "id": "axw7kZhOzbQv"
      },
      "execution_count": null,
      "outputs": []
    },
    {
      "cell_type": "markdown",
      "source": [
        "### Operaciones vectoriales con arreglos"
      ],
      "metadata": {
        "id": "LOZIonhqzpAq"
      }
    },
    {
      "cell_type": "code",
      "source": [
        "up = np.array([1,0])\n",
        "down = np.array ([0,1])\n",
        "\n",
        "print(up,down)"
      ],
      "metadata": {
        "id": "bcdVRO6Dz5xw"
      },
      "execution_count": null,
      "outputs": []
    },
    {
      "cell_type": "code",
      "source": [
        "a"
      ],
      "metadata": {
        "id": "l4hsduqdz5Wl"
      },
      "execution_count": null,
      "outputs": []
    },
    {
      "cell_type": "code",
      "source": [
        "identidad = np.eye(2)"
      ],
      "metadata": {
        "id": "Oehln6Uv0LR8"
      },
      "execution_count": null,
      "outputs": []
    },
    {
      "cell_type": "code",
      "source": [
        "a*identidad"
      ],
      "metadata": {
        "id": "1EohaS5F0N_V"
      },
      "execution_count": null,
      "outputs": []
    },
    {
      "cell_type": "code",
      "source": [
        "np.dot(a,identidad)"
      ],
      "metadata": {
        "id": "zZjuhIQi0S7l"
      },
      "execution_count": null,
      "outputs": []
    },
    {
      "cell_type": "code",
      "source": [
        "np.dot(up,a)"
      ],
      "metadata": {
        "id": "t5DPgHHL0XOw"
      },
      "execution_count": null,
      "outputs": []
    },
    {
      "cell_type": "code",
      "source": [
        "np.dot(a,up)"
      ],
      "metadata": {
        "id": "hGzbYbGa0aGO"
      },
      "execution_count": null,
      "outputs": []
    },
    {
      "cell_type": "code",
      "source": [
        "np.dot(up,up)"
      ],
      "metadata": {
        "id": "fO3A5Uxw0ezw"
      },
      "execution_count": null,
      "outputs": []
    },
    {
      "cell_type": "code",
      "source": [
        "np.dot(up,down)"
      ],
      "metadata": {
        "id": "KG9iKNtE0i4S"
      },
      "execution_count": null,
      "outputs": []
    },
    {
      "cell_type": "code",
      "source": [
        "(1+1j)*1j"
      ],
      "metadata": {
        "id": "Y8VEOtEzJRgK"
      },
      "execution_count": null,
      "outputs": []
    },
    {
      "cell_type": "markdown",
      "source": [
        "El **producto de Kronecker** de\n",
        "\n",
        "$A =\n",
        "\\begin{pmatrix}\n",
        "a_{11} & a_{12} & \\ldots & a_{1N} \\\\\n",
        "a_{21} & a_{22} & \\ldots & a_{2N} \\\\\n",
        "\\vdots & \\vdots & \\ldots & \\vdots \\\\\n",
        "a_{N1} & a_{N2} & \\ldots & a_{NN}\n",
        "\\end{pmatrix}\n",
        "$\n",
        "\n",
        "y\n",
        "\n",
        "$B =\n",
        "\\begin{pmatrix}\n",
        "b_{11} & b_{12} & \\ldots & b_{1M} \\\\\n",
        "b_{21} & b_{22} & \\ldots & b_{2M} \\\\\n",
        "\\vdots & \\vdots & \\ldots & \\vdots \\\\\n",
        "b_{M1} & b_{M2} & \\ldots & b_{MM}\n",
        "\\end{pmatrix}\n",
        "$\n",
        "\n",
        "se define como\n",
        "\n",
        "$A\\otimes B =\n",
        "\\begin{pmatrix}\n",
        "a_{11}B & a_{12}B & \\ldots & a_{1N}B \\\\\n",
        "a_{21}B & a_{22}B & \\ldots & a_{2N}B \\\\\n",
        "\\vdots & \\vdots & \\ldots & \\vdots \\\\\n",
        "a_{N1}B & a_{N2}B & \\ldots & a_{NN}B\n",
        "\\end{pmatrix}\n",
        "$\n",
        "\n",
        "con\n",
        "\n",
        "$a_{ij}B =\n",
        "\\begin{pmatrix}\n",
        "a_{ij}b_{11} & a_{ij}b_{12} & \\ldots & a_{ij}b_{1M} \\\\\n",
        "a_{ij}b_{21} & a_{ij}b_{22} & \\ldots & a_{ij}b_{2M} \\\\\n",
        "\\vdots & \\vdots & \\ldots & \\vdots \\\\\n",
        "a_{ij}b_{M1} & a_{ij}b_{M2} & \\ldots & a_{ij}b_{MM} \\\\\n",
        "\\end{pmatrix}\n",
        "$\n",
        "\n",
        "\n",
        "**Ejemplo**\n",
        "\n",
        "Sean los operadores de Pauli:\n",
        "$$\n",
        "X = \\begin{pmatrix}\n",
        "0 & 1 \\\\\n",
        "1 & 0\n",
        "\\end{pmatrix}, \\quad\n",
        "Y = \\begin{pmatrix}\n",
        "0 & -i \\\\\n",
        "i & 0\n",
        "\\end{pmatrix}\n",
        "$$\n",
        "\n",
        "El producto de Kronecker $ X \\otimes Y $ es:\n",
        "$$\n",
        "X \\otimes Y =\n",
        "\\begin{pmatrix}\n",
        "0 \\cdot Y & 1 \\cdot Y \\\\\n",
        "1 \\cdot Y & 0 \\cdot Y\n",
        "\\end{pmatrix}\n",
        "=\n",
        "\\begin{pmatrix}\n",
        "0 & 0 & 0 & -i \\\\\n",
        "0 & 0 & i & 0 \\\\\n",
        "0 & -i & 0 & 0 \\\\\n",
        "i & 0 & 0 & 0\n",
        "\\end{pmatrix}\n",
        "$$\n"
      ],
      "metadata": {
        "id": "Jwlpi7nahXe9"
      }
    },
    {
      "cell_type": "code",
      "source": [
        "# Producto de Kronecker:\n",
        "import numpy as np\n",
        "X = np.array([[0,1],[1,0]])\n",
        "Y = np.array([[0,-1j],[1j,0]])\n",
        "\n",
        "np.kron(X,Y)"
      ],
      "metadata": {
        "id": "S1CdQsfAgWrm"
      },
      "execution_count": null,
      "outputs": []
    },
    {
      "cell_type": "code",
      "source": [
        "# Eigenvalores y eigenvectores\n",
        "\n",
        "np.linalg.eig(a)"
      ],
      "metadata": {
        "id": "OZOGXMyGj2bE"
      },
      "execution_count": null,
      "outputs": []
    },
    {
      "cell_type": "markdown",
      "source": [
        "## Matplotlib\n",
        "\n",
        "Librería de Python para graficar datos y funciones"
      ],
      "metadata": {
        "id": "n6xkBVDP1Fow"
      }
    },
    {
      "cell_type": "code",
      "source": [
        "# si fuera necesario instalar, descomentamos la siguiente línea:\n",
        "# !pip install matplotlib\n",
        "\n",
        "import matplotlib.pyplot as plt"
      ],
      "metadata": {
        "id": "YJvbUkk_1OQB"
      },
      "execution_count": null,
      "outputs": []
    },
    {
      "cell_type": "code",
      "source": [
        "x = np.arange(0,2*np.pi,0.1)\n",
        "print(x)"
      ],
      "metadata": {
        "id": "UC9dp-Z_1UAt"
      },
      "execution_count": null,
      "outputs": []
    },
    {
      "cell_type": "code",
      "source": [
        "y = np.sin(x)\n",
        "print(y)"
      ],
      "metadata": {
        "id": "x7vUedM41n8i"
      },
      "execution_count": null,
      "outputs": []
    },
    {
      "cell_type": "code",
      "source": [
        "print(type(x))\n",
        "print(type(y))"
      ],
      "metadata": {
        "id": "HzbjBP1E111H"
      },
      "execution_count": null,
      "outputs": []
    },
    {
      "cell_type": "code",
      "source": [
        "plt.plot(x,y)\n",
        "plt.show()"
      ],
      "metadata": {
        "id": "26rsZPFf16Cq"
      },
      "execution_count": null,
      "outputs": []
    },
    {
      "cell_type": "code",
      "source": [
        "z = np.cos(x)\n",
        "\n",
        "plt.scatter(x, y,color='g')\n",
        "plt.plot(x, z)\n",
        "plt.xlabel('$x$')\n",
        "plt.ylabel('$y$')\n",
        "plt.title('Funciones $\\sin$ y $\\cos$')\n",
        "plt.legend(['$\\sin$', '$\\cos$'])\n",
        "plt.show()"
      ],
      "metadata": {
        "id": "XZBWz2Gf2GBU"
      },
      "execution_count": null,
      "outputs": []
    },
    {
      "cell_type": "code",
      "source": [],
      "metadata": {
        "id": "h9Itsiq3Kol1"
      },
      "execution_count": null,
      "outputs": []
    }
  ]
}