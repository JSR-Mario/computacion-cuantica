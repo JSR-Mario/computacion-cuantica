{
  "nbformat": 4,
  "nbformat_minor": 0,
  "metadata": {
    "colab": {
      "provenance": []
    },
    "kernelspec": {
      "name": "python3",
      "display_name": "Python 3"
    },
    "language_info": {
      "name": "python"
    }
  },
  "cells": [
    {
      "cell_type": "code",
      "execution_count": null,
      "metadata": {
        "id": "KautCtaXN7OA"
      },
      "outputs": [],
      "source": [
        "# Para instalar qiskit en Colab:\n",
        "\n",
        "!pip install qiskit"
      ]
    },
    {
      "cell_type": "markdown",
      "source": [
        "##Primeros pasos en Qiskit"
      ],
      "metadata": {
        "id": "mBjG76DHQoFS"
      }
    },
    {
      "cell_type": "markdown",
      "source": [
        "## Opcional: instalación local\n",
        "\n",
        "Si deseas hacer una instalación local de qiskit:\n",
        "\n",
        "1. Crea un ambiente virtual, esto no es obligatorio, pero muy recomendable. En esta página puedes ver la guía para hacerlo: https://docs.anaconda.com/anaconda/install/index.html\n",
        "\n",
        "2. En el entorno virtual, instala qiskit en el ambiente creado, puedes usar directamente: pip install qiskit"
      ],
      "metadata": {
        "id": "1_tVETCnQpVH"
      }
    },
    {
      "cell_type": "markdown",
      "source": [
        "## Qiskit\n",
        "\n",
        "Qiskit es un *framework* para el cómputo cuántico desarrollado por IBM, que permite diseñar, *simular* y *ejecutar* algoritmos cuánticos.\n",
        "\n",
        "## El modelo de circuito\n",
        "\n",
        "En el **modelo de circuito** del cómputo cuántico, necesitamos de:\n",
        "\n",
        "$\\bullet$ Qubits (amplitudes de probabilidad o funciones de onda). Un qubit se puede representar como $|\\psi\\rangle = \\alpha|e_0\\rangle+\\beta|e_1\\rangle$, con $|\\alpha|^2+|\\beta|^2=1.$\n",
        "\n",
        "$\\bullet$ Compuertas (operadores unitarios). Algunos operadores importantes, que actúan sobre un qubit son los siguientes:\n",
        "\n",
        ">$\\star$ Operador de Hadamard: $\\quad\\hat H=\\tfrac{1}{\\sqrt{2}}\\big(|0\\rangle\\langle0|+|0\\rangle\\langle1|+|1 \\rangle\\langle0|-|1\\rangle\\langle1|\\big)$.  \n",
        "\n",
        ">$\\star$ Pauli-$z$: $\\quad\\hat z = |0\\rangle\\langle0|-|1\\rangle\\langle1|$\n",
        "\n",
        ">$\\star$ Pauli-$x$: $\\quad\\hat x = |0\\rangle\\langle1|+|1\\rangle\\langle0|$\n",
        "\n",
        ">$\\star$ Pauli-$y$: $\\quad\\hat y = -i|0\\rangle\\langle1|+i|1\\rangle\\langle0|$\n",
        "\n",
        "$\\bullet$ Mediciones.\n",
        "\n",
        "$\\bullet$ Un *backend*. Un backend es el recurso en el que simularemos o ejecturaremos el circuito. Un backend puede ser una computadora cuántica real o un simulador.\n",
        "\n",
        "El backend tiene por objetivos:\n",
        "\n",
        "$\\bullet$ La ejecución del circuito.\n",
        "\n",
        "$\\bullet$ La optimización y *transpilación* de los mismos.\n",
        "\n",
        "$\\bullet$ La mitigación de errores."
      ],
      "metadata": {
        "id": "2k8MHNEQOEE1"
      }
    },
    {
      "cell_type": "markdown",
      "source": [
        "## Nuestro primer circuito"
      ],
      "metadata": {
        "id": "zRVlx7G3To7G"
      }
    },
    {
      "cell_type": "code",
      "source": [
        "# Creamos un qubit, llamado q\n",
        "\n",
        "from qiskit import QuantumRegister\n",
        "qr = QuantumRegister(1,'qr')    # el primer argumento indica cuántos qubits definimos\n",
        "                                # el segundo argumento le da un nombre \"humano\" al qubit"
      ],
      "metadata": {
        "id": "HTE92UaS5FR1"
      },
      "execution_count": null,
      "outputs": []
    },
    {
      "cell_type": "code",
      "source": [
        "# Creamos un bit (clásico)\n",
        "\n",
        "from qiskit import ClassicalRegister\n",
        "cr = ClassicalRegister(1,'cr')"
      ],
      "metadata": {
        "id": "7jLim-Vr8PKn"
      },
      "execution_count": null,
      "outputs": []
    },
    {
      "cell_type": "code",
      "source": [
        "# Creamos un circuito\n",
        "\n",
        "from qiskit import QuantumCircuit\n",
        "primer_circuito = QuantumCircuit(qr,cr)  # inicializamos el circuito con los qubits q"
      ],
      "metadata": {
        "id": "TcOSsCGl45L3"
      },
      "execution_count": null,
      "outputs": []
    },
    {
      "cell_type": "code",
      "source": [
        "# Añadimos una compuerta Z al circuito\n",
        "\n",
        "primer_circuito.z(qr[0])\n"
      ],
      "metadata": {
        "id": "H1VtMZPN5B1U"
      },
      "execution_count": null,
      "outputs": []
    },
    {
      "cell_type": "code",
      "source": [
        "# Agregamos una compuerta de medición\n",
        "\n",
        "primer_circuito.measure(qr[0],cr[0])    # la medición del qubit qr se guarda en el bit cr"
      ],
      "metadata": {
        "id": "ROtqp-5o7u1i"
      },
      "execution_count": null,
      "outputs": []
    },
    {
      "cell_type": "code",
      "source": [
        "# Para tener una mejor versión del diagrama del circuito\n",
        "!pip install pylatexenc"
      ],
      "metadata": {
        "id": "1PzIsVlgxHw2"
      },
      "execution_count": null,
      "outputs": []
    },
    {
      "cell_type": "code",
      "source": [
        "# Dibujamos el circuito\n",
        "primer_circuito.draw('mpl')\n"
      ],
      "metadata": {
        "id": "lRYjU6Nn83Q6"
      },
      "execution_count": null,
      "outputs": []
    },
    {
      "cell_type": "markdown",
      "source": [
        "El circuito anterior equivale a aplicar la operación\n",
        "\n",
        "$|\\psi\\rangle = \\hat Z|0\\rangle = ¿?$\n",
        "\n",
        "Por *default*, si hacemos una especificación diferente, todos los qubits inician el estado $|0\\rangle$."
      ],
      "metadata": {
        "id": "-WcekWC8rAE0"
      }
    },
    {
      "cell_type": "code",
      "source": [
        "# Ejecutamos el circuito\n",
        "\n",
        "\n",
        "# Seleccionamos un backend, en este caso, un simulador\n",
        "!pip install qiskit-aer\n",
        "\n",
        "from qiskit_aer import AerSimulator\n",
        "backend =  AerSimulator(method='statevector')\n",
        "\n",
        "# Ejecutamos la simulación. Es obligatorio dar el circuito a ejecutar\n",
        "\n",
        "job = backend.run(primer_circuito,shots=1000)   # elegimos el circuito,\n",
        "                                               # y el número de repeticiones del experimento\n",
        "\n",
        "resultados = job.result()\n",
        "counts = resultados.get_counts()"
      ],
      "metadata": {
        "id": "XsH85LXb9zqg"
      },
      "execution_count": null,
      "outputs": []
    },
    {
      "cell_type": "code",
      "source": [
        "job"
      ],
      "metadata": {
        "id": "VBx24Mpiy7tu"
      },
      "execution_count": null,
      "outputs": []
    },
    {
      "cell_type": "code",
      "source": [
        "counts"
      ],
      "metadata": {
        "id": "nMzei6G2AibR"
      },
      "execution_count": null,
      "outputs": []
    },
    {
      "cell_type": "code",
      "source": [
        "# Obtenemos un  histograma de las mediciones\n",
        "\n",
        "from qiskit.visualization import plot_histogram\n",
        "\n",
        "plot_histogram(counts)"
      ],
      "metadata": {
        "id": "pboOp-MfCPcz"
      },
      "execution_count": null,
      "outputs": []
    },
    {
      "cell_type": "markdown",
      "source": [
        "## Un circuito un poco más interesante"
      ],
      "metadata": {
        "id": "LsU-nTbKHA4-"
      }
    },
    {
      "cell_type": "code",
      "source": [
        "circuito_hadamard = QuantumCircuit(1)\n",
        "circuito_hadamard.h(0)\n",
        "circuito_hadamard.measure_all()\n",
        "circuito_hadamard.draw('mpl')"
      ],
      "metadata": {
        "id": "xYfyqlSoKdqE"
      },
      "execution_count": null,
      "outputs": []
    },
    {
      "cell_type": "code",
      "source": [
        "job = backend.run(circuito_hadamard,shots=1000)\n",
        "\n",
        "resultados = job.result()\n",
        "counts = resultados.get_counts()\n",
        "plot_histogram(counts)"
      ],
      "metadata": {
        "id": "_gxzuQD2ZajI"
      },
      "execution_count": null,
      "outputs": []
    },
    {
      "cell_type": "code",
      "source": [
        "#Vamos a repetir el experimento, pero ahora inicializamos el qubit en otro estado\n",
        "import numpy as np\n",
        "\n",
        "estado_inicial = [1,1]\n",
        "estado_inicial = estado_inicial/np.linalg.norm(estado_inicial)\n",
        "\n",
        "# ¿Qué estado hemos preparado?"
      ],
      "metadata": {
        "id": "tsFr-YBMaOQB"
      },
      "execution_count": null,
      "outputs": []
    },
    {
      "cell_type": "code",
      "source": [
        "circuito_hadamard = QuantumCircuit(1)\n",
        "circuito_hadamard.initialize(estado_inicial,0)    # el segundo argumento indica qué qubit inicializamos\n",
        "circuito_hadamard.h(0)\n",
        "circuito_hadamard.measure_all()\n",
        "circuito_hadamard.draw('mpl')\n",
        "\n",
        "# ¿Cuál será la salida de counts?"
      ],
      "metadata": {
        "id": "RIyLCJMta24Q"
      },
      "execution_count": null,
      "outputs": []
    },
    {
      "cell_type": "code",
      "source": [
        "job = backend.run(circuito_hadamard,shots=10000)\n",
        "resultados = job.result()\n",
        "counts = resultados.get_counts()\n",
        "plot_histogram(counts)"
      ],
      "metadata": {
        "id": "PzZfFTHWbQPI"
      },
      "execution_count": null,
      "outputs": []
    },
    {
      "cell_type": "markdown",
      "source": [
        "Podemos aplicar varias compuertas a un qubit, por ejemplo."
      ],
      "metadata": {
        "id": "Tds3GuJqg7HP"
      }
    },
    {
      "cell_type": "code",
      "source": [
        "circuito_prueba = QuantumCircuit(1)\n",
        "circuito_prueba.h(0)\n",
        "circuito_prueba.barrier(0)            # ayuda visual\n",
        "circuito_prueba.y(0)\n",
        "circuito_prueba.measure_all()\n",
        "circuito_prueba.draw('mpl')"
      ],
      "metadata": {
        "id": "ymAFBtVsgfpI"
      },
      "execution_count": null,
      "outputs": []
    },
    {
      "cell_type": "markdown",
      "source": [
        "El circuit anterior corresponde a la operación\n",
        "\n",
        "$|\\psi\\rangle=\\hat Y(\\hat H|0\\rangle) = ¿?$"
      ],
      "metadata": {
        "id": "EFVtTA58rbrd"
      }
    },
    {
      "cell_type": "code",
      "source": [
        "job = backend.run(circuito_prueba,shots=1000)   # elegimos el circuito,\n",
        "                                                # y el número de repeticiones del experimento\n",
        "\n",
        "resultados = job.result()\n",
        "counts = resultados.get_counts()\n",
        "plot_histogram(counts)"
      ],
      "metadata": {
        "id": "V3Zht1KMhfyV"
      },
      "execution_count": null,
      "outputs": []
    },
    {
      "cell_type": "markdown",
      "source": [
        "### Ejercicios rápidos\n",
        "  "
      ],
      "metadata": {
        "id": "Om2iPuDehEKb"
      }
    },
    {
      "cell_type": "markdown",
      "source": [
        "#### Ejercicio 1\n",
        "\n",
        "\n",
        "Usando las compuertas definidas en este documento, diseñe circuitos con un qubit, cuya salida sea:\n",
        "\n",
        "(a) el estado $|1\\rangle$,\n",
        "\n",
        "(b) el estado $|+\\rangle$,\n",
        "\n",
        "(c) el estado $|-\\rangle$    "
      ],
      "metadata": {
        "id": "uY53gPyBtaW2"
      }
    },
    {
      "cell_type": "code",
      "source": [],
      "metadata": {
        "id": "iub57Pg4eAF0"
      },
      "execution_count": null,
      "outputs": []
    },
    {
      "cell_type": "markdown",
      "source": [
        "#### Ejercicio 2\n",
        "\n",
        "Considere el siguiente circuito:"
      ],
      "metadata": {
        "id": "ropm6U9PgRiD"
      }
    },
    {
      "cell_type": "code",
      "source": [
        "circuito2 = QuantumCircuit(1)\n",
        "\n",
        "circuito2.h(0)\n",
        "circuito2.z(0)\n",
        "circuito2.h(0)\n",
        "\n",
        "circuito2.barrier(0)\n",
        "\n",
        "circuito2.h(0)\n",
        "\n",
        "circuito2.measure_all()\n",
        "\n",
        "circuito2.draw('mpl')"
      ],
      "metadata": {
        "id": "OM-UIqamtkqD"
      },
      "execution_count": null,
      "outputs": []
    },
    {
      "cell_type": "code",
      "source": [
        "job = backend.run(circuito2,shots=1000)\n",
        "\n",
        "resultados = job.result()\n",
        "counts = resultados.get_counts()\n",
        "plot_histogram(counts)"
      ],
      "metadata": {
        "id": "IrlYJZOTuGew"
      },
      "execution_count": null,
      "outputs": []
    },
    {
      "cell_type": "markdown",
      "source": [
        "A partir del histograma, ¿puede determinar el estado final del sistema?\n",
        "\n",
        "Si no es posible, ¿cómo podría solucionarlo?"
      ],
      "metadata": {
        "id": "M88MjWI6uhV0"
      }
    },
    {
      "cell_type": "markdown",
      "source": [
        "## Mediciones en la base diagonal\n",
        "\n",
        "Consideremos la siguiente modificación al circuito anterior:"
      ],
      "metadata": {
        "id": "jELhYvDKuTSh"
      }
    },
    {
      "cell_type": "code",
      "source": [
        "circuito2 = QuantumCircuit(1)\n",
        "\n",
        "circuito2.h(0)\n",
        "circuito2.z(0)\n",
        "circuito2.h(0)\n",
        "\n",
        "circuito2.barrier(0)\n",
        "\n",
        "circuito2.h(0)\n",
        "\n",
        "circuito2.barrier(0)\n",
        "\n",
        "circuito2.h(0)\n",
        "\n",
        "circuito2.measure_all()\n",
        "\n",
        "circuito2.draw('mpl')"
      ],
      "metadata": {
        "id": "IRhfrp20u6hY"
      },
      "execution_count": null,
      "outputs": []
    },
    {
      "cell_type": "code",
      "source": [
        "job = backend.run(circuito2,shots=1000)\n",
        "\n",
        "resultados = job.result()\n",
        "counts = resultados.get_counts()\n",
        "plot_histogram(counts)"
      ],
      "metadata": {
        "id": "a2KSDgvDvDze"
      },
      "execution_count": null,
      "outputs": []
    },
    {
      "cell_type": "markdown",
      "source": [
        "Para medir en la base diagonal, basta con aplicar una compuerta de Hadamard justo antes de medir, pues\n",
        "\n",
        "$\\hat H|+\\rangle=$\n",
        "\n",
        "y\n",
        "\n",
        "$\\hat H|-\\rangle=$"
      ],
      "metadata": {
        "id": "r09P6oHovGL5"
      }
    },
    {
      "cell_type": "markdown",
      "source": [
        "## Dos qubits"
      ],
      "metadata": {
        "id": "iFFDdTbuvq7M"
      }
    },
    {
      "cell_type": "markdown",
      "source": [
        "**Convención de qiskit:** el bit más significativo (más a la izquierda) va hasta abajo al dibujar el circuito.\n",
        "\n",
        "Lo anterior es válido para más qubits."
      ],
      "metadata": {
        "id": "eBwnBW8tyzUV"
      }
    },
    {
      "cell_type": "markdown",
      "source": [
        "### Ejemplo 1"
      ],
      "metadata": {
        "id": "SNaDmISSz6A2"
      }
    },
    {
      "cell_type": "code",
      "source": [
        "# Podemos aplicar compuertas a cada qubit por separado:\n",
        "\n",
        "dos_qubits = QuantumCircuit(2)\n",
        "dos_qubits.x(1)\n",
        "dos_qubits.measure_all()\n",
        "dos_qubits.draw('mpl')\n",
        "\n",
        "# ¿Cuál es la salida del circuito?"
      ],
      "metadata": {
        "id": "5l3h91gNzCh_"
      },
      "execution_count": null,
      "outputs": []
    },
    {
      "cell_type": "code",
      "source": [
        "job = backend.run(dos_qubits,shots=1000)\n",
        "\n",
        "resultados = job.result()\n",
        "counts = resultados.get_counts()\n",
        "plot_histogram(counts)"
      ],
      "metadata": {
        "id": "TI8BplYOzpO3"
      },
      "execution_count": null,
      "outputs": []
    },
    {
      "cell_type": "markdown",
      "source": [
        "### Ejemplo 2"
      ],
      "metadata": {
        "id": "fKuxkPJmz9VL"
      }
    },
    {
      "cell_type": "code",
      "source": [
        "qr = QuantumRegister(2)\n",
        "dos_qubits = QuantumCircuit(qr)\n",
        "dos_qubits.h(0)\n",
        "dos_qubits.x(1)\n",
        "dos_qubits.measure_all()\n",
        "dos_qubits.draw('mpl')\n",
        "\n",
        "# ¿Cuál es la salida del circuito?"
      ],
      "metadata": {
        "id": "yE1HdGJfwboP"
      },
      "execution_count": null,
      "outputs": []
    },
    {
      "cell_type": "code",
      "source": [
        "job = backend.run(dos_qubits,shots=1000)\n",
        "\n",
        "resultados = job.result()\n",
        "counts = resultados.get_counts()\n",
        "plot_histogram(counts)"
      ],
      "metadata": {
        "id": "iSOl_SJKwc56"
      },
      "execution_count": null,
      "outputs": []
    },
    {
      "cell_type": "markdown",
      "source": [
        "### Circuito de Bell"
      ],
      "metadata": {
        "id": "WDzcr2wMxyFj"
      }
    },
    {
      "cell_type": "code",
      "source": [
        "circuito_bell = QuantumCircuit(2)\n",
        "circuito_bell.h(0)\n",
        "circuito_bell.cx(0,1)                #cx: controlled x\n",
        "circuito_bell.measure_all()\n",
        "\n",
        "circuito_bell.draw('mpl')"
      ],
      "metadata": {
        "id": "vIvncjEu3DJG"
      },
      "execution_count": null,
      "outputs": []
    },
    {
      "cell_type": "code",
      "source": [
        "job = backend.run(circuito_bell,shots=1000)\n",
        "\n",
        "resultados = job.result()\n",
        "counts = resultados.get_counts()\n",
        "plot_histogram(counts)"
      ],
      "metadata": {
        "id": "VeaN_jXK3Njv"
      },
      "execution_count": null,
      "outputs": []
    },
    {
      "cell_type": "markdown",
      "source": [
        "## Ejercicio 3:\n",
        "\n",
        "Diseñe tres circuitos para generar los estados de Bell:\n",
        "\n",
        ">(a) $|\\Phi^-\\rangle=\\tfrac{1}{\\sqrt{2}}(|00\\rangle-|11\\rangle)$\n",
        "\n",
        ">(b) $|\\Psi^+\\rangle=\\tfrac{1}{\\sqrt{2}}(|01\\rangle+|10\\rangle)$\n",
        "\n",
        ">(c) $|\\Psi^-\\rangle=\\tfrac{1}{\\sqrt{2}}(|01\\rangle-|10\\rangle)$"
      ],
      "metadata": {
        "id": "b3dAqW403oPs"
      }
    },
    {
      "cell_type": "code",
      "source": [],
      "metadata": {
        "id": "zKruQVAg1nds"
      },
      "execution_count": null,
      "outputs": []
    }
  ]
}