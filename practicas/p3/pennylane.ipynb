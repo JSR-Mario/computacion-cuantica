{
  "nbformat": 4,
  "nbformat_minor": 0,
  "metadata": {
    "colab": {
      "provenance": [],
      "collapsed_sections": [
        "NXJmjW3WzqnT"
      ]
    },
    "kernelspec": {
      "name": "python3",
      "display_name": "Python 3"
    },
    "language_info": {
      "name": "python"
    }
  },
  "cells": [
    {
      "cell_type": "markdown",
      "source": [
        "# Pennylane"
      ],
      "metadata": {
        "id": "70j2jPgwCC5Q"
      }
    },
    {
      "cell_type": "code",
      "source": [
        "# Comentar en caso de hacer una instalación local\n",
        "\n",
        "!pip install pennylane"
      ],
      "metadata": {
        "id": "snKgzLrqCSmP"
      },
      "execution_count": null,
      "outputs": []
    },
    {
      "cell_type": "code",
      "source": [
        "import matplotlib.pyplot as plt\n",
        "from matplotlib.ticker import StrMethodFormatter"
      ],
      "metadata": {
        "id": "oyi7bnS13mNk"
      },
      "execution_count": null,
      "outputs": []
    },
    {
      "cell_type": "markdown",
      "source": [
        "$\\bullet$ Pennylane es una plataforma de Python para programar computadoras cuánticas. Funciona con simuladores o con hardware cuántico.\n",
        "\n",
        "$\\bullet$ Los circuitos se representan mediante *nodos cuánticos*  (*quantum nodes*).\n",
        "\n",
        "$\\bullet$ Los circuitos son funciones.\n",
        "\n",
        "$\\bullet$ Cada cable es un qubit.\n",
        "\n",
        "$\\bullet$ Es necesario seleccionar un *device*, que nos dará acceso a un simulador o al hardware corresppndiente."
      ],
      "metadata": {
        "id": "RGrqQ99YCXWG"
      }
    },
    {
      "cell_type": "code",
      "source": [
        "# la forma típica e invocar a pennylane es como qml\n",
        "\n",
        "import pennylane as qml\n",
        "import numpy as np"
      ],
      "metadata": {
        "id": "YphbE0lOGXMw"
      },
      "execution_count": null,
      "outputs": []
    },
    {
      "cell_type": "markdown",
      "source": [
        "## Un circuito genérico"
      ],
      "metadata": {
        "id": "0cjIMiwfyR4O"
      }
    },
    {
      "cell_type": "code",
      "source": [
        "# Podemos crear un device de esta manera, donde \"wires\" es el número de qubits,\n",
        "# \"shots\", el número de veces a repetir el experimento y el primer argumento es\n",
        "# el dispositivo a usar\n",
        "\n",
        "#dev = qml.device('default.qubit', wires=2, shots=1024)\n",
        "\n",
        "\n",
        "# O bien, podemos crear un circuuto etiquetando a los qubits:\n",
        "\n",
        "dev = qml.device('default.qubit', wires=['q0', 'q1'], shots=1024)"
      ],
      "metadata": {
        "id": "kd4uAuoHFtVQ"
      },
      "execution_count": null,
      "outputs": []
    },
    {
      "cell_type": "code",
      "source": [
        "# Creamos un circuito:\n",
        "\n",
        "@qml.qnode(dev)\n",
        "def qc(phase):\n",
        "    qml.Hadamard(wires='q0')\n",
        "    qml.RX(phase[0], wires='q0')\n",
        "    qml.RY(phase[1], wires='q1')\n",
        "    qml.CNOT(wires=['q0', 'q1'])\n",
        "    return qml.expval((qml.PauliZ('q0')+1)/2), qml.var((qml.PauliX('q1')+1)/2),qml.sample((qml.PauliZ('q0')+1)/2),qml.sample((qml.PauliZ('q1')+1)/2), qml.counts((qml.PauliZ('q0')+1)/2), qml.counts((qml.PauliZ('q1')+1)/2)\n",
        "\n",
        "phase = [0,0]"
      ],
      "metadata": {
        "id": "llpFowRsGV8C"
      },
      "execution_count": null,
      "outputs": []
    },
    {
      "cell_type": "code",
      "source": [
        "drawer = qml.draw(qc)\n",
        "print(drawer(phase))"
      ],
      "metadata": {
        "id": "XSk6X9IiHRmP"
      },
      "execution_count": null,
      "outputs": []
    },
    {
      "cell_type": "code",
      "source": [
        "fig, ax = qml.draw_mpl(qc,style='',decimals=2,wire_order=[1,0])(phase)\n",
        "fig.show()"
      ],
      "metadata": {
        "id": "qlVUTT2fIIMg"
      },
      "execution_count": null,
      "outputs": []
    },
    {
      "cell_type": "code",
      "source": [
        "resultados = qc(phase)"
      ],
      "metadata": {
        "id": "YlaEyIxMLIo6"
      },
      "execution_count": null,
      "outputs": []
    },
    {
      "cell_type": "code",
      "source": [
        "resultados[-1]"
      ],
      "metadata": {
        "id": "0hadg-SBuna9"
      },
      "execution_count": null,
      "outputs": []
    },
    {
      "cell_type": "code",
      "source": [],
      "metadata": {
        "id": "B-2-ZAqC8lc3"
      },
      "execution_count": null,
      "outputs": []
    },
    {
      "cell_type": "markdown",
      "source": [
        "## Lo que podemos obtener"
      ],
      "metadata": {
        "id": "Tn_PnTSnyYi5"
      }
    },
    {
      "cell_type": "markdown",
      "source": [
        "### El estado final del sistema:\n",
        "\n",
        "*Note que shots queda fuera de la declaración del dispositivo.*"
      ],
      "metadata": {
        "id": "OpRukcECyiGY"
      }
    },
    {
      "cell_type": "code",
      "source": [
        "dev = qml.device('default.qubit', wires=2)\n",
        "\n",
        "# Creamos un circuito:\n",
        "\n",
        "@qml.qnode(dev)\n",
        "def qc():\n",
        "    qml.Hadamard(0)\n",
        "    qml.CNOT(wires=[0, 1])\n",
        "    return qml.state()\n"
      ],
      "metadata": {
        "id": "6cG5LBfINb7Q"
      },
      "execution_count": null,
      "outputs": []
    },
    {
      "cell_type": "code",
      "source": [
        "drawer = qml.draw(qc)\n",
        "print(drawer())"
      ],
      "metadata": {
        "id": "Hzrp6ozTtB-K"
      },
      "execution_count": null,
      "outputs": []
    },
    {
      "cell_type": "code",
      "source": [
        "resultados = qc()"
      ],
      "metadata": {
        "id": "b8QckYdTtKzv"
      },
      "execution_count": null,
      "outputs": []
    },
    {
      "cell_type": "markdown",
      "source": [
        "Como esperábamos, el estado final es $$\\tfrac{1}{\\sqrt{2}}\\big(|00\\rangle+|11\\rangle\\big)$$"
      ],
      "metadata": {
        "id": "czQoFg_iyyyc"
      }
    },
    {
      "cell_type": "code",
      "source": [
        "resultados"
      ],
      "metadata": {
        "id": "4Tdfu0Gux2Jo"
      },
      "execution_count": null,
      "outputs": []
    },
    {
      "cell_type": "code",
      "source": [],
      "metadata": {
        "id": "6g-ivnOOLwaa"
      },
      "execution_count": null,
      "outputs": []
    },
    {
      "cell_type": "markdown",
      "source": [
        "### Las probabilidades de los estados en la base computacional"
      ],
      "metadata": {
        "id": "-tZVNjYFzTSO"
      }
    },
    {
      "cell_type": "code",
      "source": [
        "dev = qml.device('default.qubit', wires=2, shots=480)\n",
        "\n",
        "# Creamos un circuito:\n",
        "\n",
        "@qml.qnode(dev)\n",
        "def qc():\n",
        "    qml.Hadamard(0)\n",
        "    qml.CNOT(wires=[0, 1])\n",
        "    return qml.probs()\n",
        "\n",
        "resultados = qc()\n",
        "resultados"
      ],
      "metadata": {
        "id": "0Q8k2rRJzkVt"
      },
      "execution_count": null,
      "outputs": []
    },
    {
      "cell_type": "code",
      "source": [
        "# Create the plot\n",
        "fig, ax = plt.subplots(figsize = (10,4))\n",
        "\n",
        "plt.bar(range(len(resultados)), resultados)\n",
        "\n",
        "idx = np.asarray([i for i in range(len(resultados))])\n",
        "\n",
        "ax.set_xticks(idx)\n",
        "\n",
        "ax.set_xticklabels(idx, rotation=65)\n",
        "\n",
        "ax.xaxis.set_major_formatter(StrMethodFormatter(\"{x:02b}\"))\n",
        "\n",
        "# Add a title and labels\n",
        "plt.ylabel('probability')\n",
        "\n",
        "\n",
        "# Display the plot\n",
        "plt.show()"
      ],
      "metadata": {
        "id": "KPZaPTRa2GIj"
      },
      "execution_count": null,
      "outputs": []
    },
    {
      "cell_type": "markdown",
      "source": [
        "### Las cuentas de las observables solicitadas\n"
      ],
      "metadata": {
        "id": "NXJmjW3WzqnT"
      }
    },
    {
      "cell_type": "code",
      "source": [
        "dev = qml.device('default.qubit', wires=2, shots=2048)\n",
        "\n",
        "# Creamos un circuito:\n",
        "\n",
        "@qml.qnode(dev)\n",
        "def qc():\n",
        "    qml.Hadamard(0)\n",
        "    qml.CNOT(wires=[0, 1])\n",
        "    return qml.counts()\n",
        "\n",
        "resultados = qc()\n",
        "resultados"
      ],
      "metadata": {
        "id": "DI4zGQRtz2sW"
      },
      "execution_count": null,
      "outputs": []
    },
    {
      "cell_type": "code",
      "source": [
        "# Create the plot\n",
        "fig, ax = plt.subplots(figsize = (10,4))\n",
        "\n",
        "# Convert the dictionary values to a list\n",
        "heights = list(resultados.values())\n",
        "\n",
        "plt.bar(range(len(resultados)), heights)\n",
        "\n",
        "idx = np.asarray([i for i in range(len(resultados))])\n",
        "\n",
        "ax.set_xticks(idx)\n",
        "\n",
        "ax.set_xticklabels(idx, rotation=65)\n",
        "\n",
        "ax.xaxis.set_major_formatter(StrMethodFormatter(\"{x:02b}\"))\n",
        "\n",
        "# Add a title and labels\n",
        "plt.ylabel('counts')\n",
        "\n",
        "\n",
        "# Display the plot\n",
        "plt.show()"
      ],
      "metadata": {
        "id": "C_Bkvxod08OF"
      },
      "execution_count": null,
      "outputs": []
    },
    {
      "cell_type": "markdown",
      "source": [
        "### El promedio y la varianza de una observable\n",
        "\n",
        "En general, el valor esperado (o valor promedio) de una observable/operador $\\hat A$ es\n",
        "$$\\langle A\\rangle =\\langle\\psi|\\hat A|\\psi\\rangle.$$\n",
        "\n",
        "\\\\\n",
        "\n",
        "La varianza es\n",
        "\n",
        "$$\\sigma_A =\\langle \\hat A^2\\rangle-\\langle\\hat A\\rangle^2.$$\n",
        "\n",
        "\\\\\n",
        "\n",
        "En el siguiente circuito calculamos el valor esperado de $\\hat Z$, con $|\\psi\\rangle=\\frac{1}{\\sqrt{2}}\\big(|0\\rangle+|1\\rangle\\big).$"
      ],
      "metadata": {
        "id": "b2t6Bc4Q0RLe"
      }
    },
    {
      "cell_type": "code",
      "source": [
        "dev = qml.device('default.qubit', wires=1, shots=4096)\n",
        "\n",
        "# Creamos un circuito:\n",
        "\n",
        "@qml.qnode(dev)\n",
        "def qc():\n",
        "    qml.Hadamard(0)\n",
        "    return qml.expval(qml.PauliZ(0)), qml.var(qml.PauliZ(0))\n",
        "\n",
        "resultados = qc()\n",
        "resultados"
      ],
      "metadata": {
        "id": "yeZcBMX81T8Z"
      },
      "execution_count": null,
      "outputs": []
    },
    {
      "cell_type": "code",
      "source": [
        "drawer = qml.draw(qc)\n",
        "print(drawer())"
      ],
      "metadata": {
        "id": "bz932Bdj1fzJ"
      },
      "execution_count": null,
      "outputs": []
    },
    {
      "cell_type": "code",
      "source": [
        "fig, ax = qml.draw_mpl(qc,style='sketch')()\n",
        "fig.show()"
      ],
      "metadata": {
        "id": "E788NcyY2LtW"
      },
      "execution_count": null,
      "outputs": []
    },
    {
      "cell_type": "markdown",
      "source": [
        "## Algunas compuertas incluidas"
      ],
      "metadata": {
        "id": "2kGwyXKi2YpF"
      }
    },
    {
      "cell_type": "code",
      "source": [
        "# Creamos un circuito:\n",
        "\n",
        "@qml.qnode(dev)\n",
        "def qc(phase):\n",
        "    qml.Hadamard(0)\n",
        "    qml.RX(phase[0], wires=0)\n",
        "    qml.RY(phase[1], wires=0)\n",
        "    qml.CNOT(wires=[0, 1])\n",
        "    qml.PhaseShift(phase[2], wires=0)\n",
        "    qml.PauliX(wires=0)\n",
        "    qml.PauliY(wires=0)\n",
        "    qml.PauliZ(wires=0)\n",
        "    qml.T(wires=0)\n",
        "    qml.S(wires=0)\n",
        "    qml.adjoint(qml.T(wires=1))\n",
        "    qml.adjoint(qml.S(wires=1))\n",
        "    qml.SWAP(wires=[0, 1])\n",
        "    return qml.expval(qml.PauliZ(0))\n",
        "\n",
        "\n",
        "phase = [np.pi/3,np.pi/7,np.pi/8]"
      ],
      "metadata": {
        "id": "1-P16KyG-2-U"
      },
      "execution_count": null,
      "outputs": []
    },
    {
      "cell_type": "code",
      "source": [
        "#drawer = qml.draw(qc)\n",
        "#print(drawer(phase))"
      ],
      "metadata": {
        "id": "0CVzCY2__eDv"
      },
      "execution_count": null,
      "outputs": []
    },
    {
      "cell_type": "code",
      "source": [
        "fig, ax = qml.draw_mpl(qc,style='',decimals=2,wire_order=[1,0])(phase)\n",
        "fig.show()"
      ],
      "metadata": {
        "id": "OdaPaYhd_iM7"
      },
      "execution_count": null,
      "outputs": []
    },
    {
      "cell_type": "markdown",
      "source": [
        "## Cómo crear una compuerta"
      ],
      "metadata": {
        "id": "FEaUiytfAP2s"
      }
    },
    {
      "cell_type": "code",
      "source": [
        "# Primero creamos una matriz unitaria\n",
        "\n",
        "U = [[0, 1], [1, 0]]\n",
        "matrix = np.matrix(U)"
      ],
      "metadata": {
        "id": "iaRzf2jpCErF"
      },
      "execution_count": null,
      "outputs": []
    },
    {
      "cell_type": "code",
      "source": [
        "@qml.qnode(dev)\n",
        "def qc_test():\n",
        "    qml.QubitUnitary(U, wires=0)  # incluimos la nueva compuerta, actuando sobre el qubit 1\n",
        "    qml.Hadamard(0)\n",
        "    return qml.counts()"
      ],
      "metadata": {
        "id": "5raf4j8yCn8h"
      },
      "execution_count": null,
      "outputs": []
    },
    {
      "cell_type": "code",
      "source": [
        "fig, ax = qml.draw_mpl(qc_test,style='',decimals=2,wire_order=[1,0])()\n",
        "fig.show()"
      ],
      "metadata": {
        "id": "e1JYn8v_Cuo_"
      },
      "execution_count": null,
      "outputs": []
    },
    {
      "cell_type": "code",
      "source": [
        "resultados = qc_test()\n",
        "resultados"
      ],
      "metadata": {
        "id": "AMnrjrKwC22_"
      },
      "execution_count": null,
      "outputs": []
    },
    {
      "cell_type": "code",
      "source": [],
      "metadata": {
        "id": "6ZBLOEgG08VU"
      },
      "execution_count": null,
      "outputs": []
    }
  ]
}